{
 "cells": [
  {
   "cell_type": "code",
   "execution_count": 1,
   "metadata": {},
   "outputs": [
    {
     "name": "stdout",
     "output_type": "stream",
     "text": [
      "[PhysicalDevice(name='/physical_device:GPU:0', device_type='GPU')]\n"
     ]
    }
   ],
   "source": [
    "import os\n",
    "os.environ[\"KERAS_BACKEND\"] = \"tensorflow\"\n",
    "\n",
    "import matplotlib.pyplot as plt\n",
    "import pandas as pd\n",
    "import numpy as np\n",
    "import seaborn as sns\n",
    "import sys\n",
    "from sklearn import preprocessing\n",
    "from sklearn.preprocessing import MinMaxScaler, StandardScaler, RobustScaler\n",
    "from sklearn.metrics import confusion_matrix,accuracy_score, classification_report\n",
    "from sklearn.model_selection import train_test_split\n",
    "from sklearn.metrics.pairwise import euclidean_distances, cosine_similarity\n",
    "from sklearn.utils import shuffle\n",
    "from sklearn.utils import class_weight\n",
    "from sklearn.metrics import r2_score\n",
    "from sklearn.metrics import mean_absolute_error\n",
    "import tensorflow as tf\n",
    "import tensorflow.python.keras\n",
    "from tensorflow.python.keras.models import Sequential\n",
    "from tensorflow.keras.layers import Dense, Dropout, Flatten, Activation, BatchNormalization,SpatialDropout1D,Bidirectional, Embedding, LSTM\n",
    "from tensorflow.python.keras import backend as K\n",
    "from tensorflow.keras.utils import to_categorical\n",
    "from tensorflow.python.keras.callbacks import EarlyStopping\n",
    "from tensorflow.keras.preprocessing.sequence import pad_sequences\n",
    "from tensorflow.keras.preprocessing.text import Tokenizer, text_to_word_sequence\n",
    "import re\n",
    "\n",
    "np.set_printoptions(threshold=sys.maxsize)\n",
    "\n",
    "pd.set_option('display.max_rows',1000)\n",
    "pd.set_option('display.max_columns',1000)\n",
    "\n",
    "# GPU support\n",
    "physical_devices = tf.config.experimental.list_physical_devices('GPU')\n",
    "print(physical_devices)\n",
    "tf.config.experimental.set_memory_growth(physical_devices[0], True)"
   ]
  },
  {
   "cell_type": "code",
   "execution_count": 2,
   "metadata": {},
   "outputs": [
    {
     "name": "stdout",
     "output_type": "stream",
     "text": [
      "['./archive/bbc', 'business']\n",
      "['./archive/bbc', 'entertainment']\n",
      "['./archive/bbc', 'politics']\n",
      "['./archive/bbc', 'sport']\n",
      "['./archive/bbc', 'tech']\n",
      "['./archive/bbc']\n"
     ]
    }
   ],
   "source": [
    "labels = [\"business\", \"entertainment\", \"politics\", \"sport\", \"tech\"]\n",
    "targets = [0,1,2,3,4]\n",
    "dataset = []\n",
    "for root, dirs, files in os.walk(\"./archive/bbc\", topdown=False):\n",
    "    class_type = root.split(\"\\\\\")\n",
    "    print(class_type)\n",
    "    if len(class_type)> 1:\n",
    "        for file in files: \n",
    "            with open(root+\"/\"+file) as f: \n",
    "                text = f.read()\n",
    "                dataset.append([class_type[1], text])  "
   ]
  },
  {
   "cell_type": "code",
   "execution_count": 3,
   "metadata": {},
   "outputs": [
    {
     "name": "stdout",
     "output_type": "stream",
     "text": [
      "2225\n"
     ]
    }
   ],
   "source": [
    "print(len(dataset))"
   ]
  },
  {
   "cell_type": "code",
   "execution_count": 4,
   "metadata": {},
   "outputs": [],
   "source": [
    "import pickle\n",
    "\n",
    "with open('./archive/bbc/dataset.list', \"wb\") as f: \n",
    "    pickle.dump(dataset, f)"
   ]
  },
  {
   "cell_type": "code",
   "execution_count": 4,
   "metadata": {},
   "outputs": [
    {
     "name": "stdout",
     "output_type": "stream",
     "text": [
      "2225\n"
     ]
    }
   ],
   "source": [
    "import pickle\n",
    "\n",
    "with open('./archive/bbc/dataset.list', \"rb\") as f: \n",
    "    dataset = pickle.load(f)\n",
    "\n",
    "print(len(dataset))"
   ]
  },
  {
   "cell_type": "code",
   "execution_count": 5,
   "metadata": {},
   "outputs": [],
   "source": [
    "dataset = pd.DataFrame(list(dataset), columns=[\"labels\", \"text\"])"
   ]
  },
  {
   "cell_type": "code",
   "execution_count": 6,
   "metadata": {},
   "outputs": [
    {
     "data": {
      "text/plain": [
       "<AxesSubplot:xlabel='labels', ylabel='count'>"
      ]
     },
     "execution_count": 6,
     "metadata": {},
     "output_type": "execute_result"
    },
    {
     "data": {
      "image/png": "[encoded data removed]",
      "text/plain": [
       "<Figure size 432x288 with 1 Axes>"
      ]
     },
     "metadata": {
      "needs_background": "light"
     },
     "output_type": "display_data"
    }
   ],
   "source": [
    "sns.countplot(x=\"labels\", data=dataset)"
   ]
  },
  {
   "cell_type": "code",
   "execution_count": 7,
   "metadata": {},
   "outputs": [],
   "source": [
    "dataset[\"labels\"] = dataset[\"labels\"].replace({\"business\":0, \"entertainment\":1, \"politics\":2, \"sport\":3, \"tech\":4})"
   ]
  },
  {
   "cell_type": "code",
   "execution_count": 8,
   "metadata": {},
   "outputs": [],
   "source": [
    "X = dataset[\"text\"].values\n",
    "y = dataset[\"labels\"].values\n",
    "\n",
    "y = to_categorical(y)"
   ]
  },
  {
   "cell_type": "code",
   "execution_count": 9,
   "metadata": {},
   "outputs": [],
   "source": [
    "tokenizer = Tokenizer(num_words= None)\n",
    "tokenizer.fit_on_texts(X)\n",
    "sequences = tokenizer.texts_to_sequences(X)\n",
    "\n",
    "# # Example\n",
    "# print(X[0])\n",
    "# print(sequences[0])"
   ]
  },
  {
   "cell_type": "code",
   "execution_count": 10,
   "metadata": {},
   "outputs": [
    {
     "name": "stdout",
     "output_type": "stream",
     "text": [
      "[ 1471     4  2210  1049  4685  8262     8     2  6615    40  1165    17\n",
      "   151     3  1412     2  4090    32  1413    70  3300    21    48   117\n",
      "  3301    12    18   191   959     2   349  6241     2  2609   881     6\n",
      "     5   216     9     8   159  1391    21     1  2528     1   137    11\n",
      "    12    13  2390     2  3129     1   911    12   510     2   109  2852\n",
      "     7   357  2853    34    12  1015   109    20  4887    12  4366     2\n",
      "  9962     1   114    12  1165     7     5   216    16   786    99  4888\n",
      " 20599  2669     3     5  1266     6  3300   264    34    12    35   613\n",
      "    17  2177  1471    12    22    67   640     1   444     3    40  1266\n",
      "     6  3300   264    17     5  1197    10     1   792     3     9  1266]\n"
     ]
    }
   ],
   "source": [
    "X_encoded = pad_sequences(sequences, maxlen=120, padding='post')\n",
    "\n",
    "print(X_encoded[0])"
   ]
  },
  {
   "cell_type": "code",
   "execution_count": 11,
   "metadata": {},
   "outputs": [],
   "source": [
    "# Split into training set and test set. Use a test size = 3000 and a random state = 0\n",
    "X_train, X_test, y_train, y_test = train_test_split(X_encoded, y, test_size=0.10, random_state=0,stratify = y)"
   ]
  },
  {
   "cell_type": "code",
   "execution_count": 12,
   "metadata": {},
   "outputs": [
    {
     "name": "stdout",
     "output_type": "stream",
     "text": [
      "WARNING:tensorflow:Layer lstm will not use cuDNN kernels since it doesn't meet the criteria. It will use a generic GPU kernel as fallback when running on GPU.\n"
     ]
    }
   ],
   "source": [
    "# Design a LSTM neural network and use an embedding layer.\n",
    "vocabulary_size = X_train.max()\n",
    "\n",
    "model = Sequential()\n",
    "\n",
    "model.add(Embedding(vocabulary_size+1, 150, input_length=120))\n",
    "model.add(SpatialDropout1D(0.3))\n",
    "# model.add(LSTM(500,return_sequences=True, dropout=0.2, recurrent_dropout=0.15))\n",
    "model.add(LSTM(100, dropout=0.10, recurrent_dropout=0.1))\n",
    "model.add(Dense(500, activation='relu'))\n",
    "# model.add(Dense(50, activation='relu'))\n",
    "model.add(Dense(5, activation='sigmoid'))\n",
    "model.compile(loss='categorical_crossentropy', optimizer='adam', metrics=['accuracy'])\n",
    "\n"
   ]
  },
  {
   "cell_type": "code",
   "execution_count": 13,
   "metadata": {},
   "outputs": [],
   "source": [
    "from tensorflow.keras.callbacks import TensorBoard, EarlyStopping, ModelCheckpoint\n",
    "import time\n",
    "from datetime import datetime, date\n",
    "es = EarlyStopping(monitor='val_loss', mode='min', verbose=1, min_delta=0.001, patience=5, restore_best_weights=True)\n",
    "\n",
    "END = f'{datetime.timestamp(datetime.now())}_{date.today().strftime(\"%b-%d-%Y\")}'\n",
    "\n",
    "NAME = 'logs/bbc/bbc_classification_log_{}'.format(int(time.time()))\n",
    "tensorboard = TensorBoard(log_dir=f'{NAME}_{END}')\n",
    "\n",
    "checkpoint_filepath = f'models/bbc/bbc_classification_{END}.h5'\n",
    "checkpointer = ModelCheckpoint(filepath=checkpoint_filepath,save_weights_only=True,monitor='val_accuracy',mode='max',save_best_only=True)\n",
    "\n",
    "callback_list = [tensorboard, checkpointer, es]"
   ]
  },
  {
   "cell_type": "code",
   "execution_count": 14,
   "metadata": {},
   "outputs": [
    {
     "name": "stdout",
     "output_type": "stream",
     "text": [
      "WARNING:tensorflow:Model failed to serialize as JSON. Ignoring... Layer ModuleWrapper has arguments in `__init__` and therefore must override `get_config`.\n",
      "Epoch 1/100\n",
      "13/13 [==============================] - 28s 2s/step - loss: 1.6056 - accuracy: 0.2411 - val_loss: 1.5932 - val_accuracy: 0.3766\n",
      "Epoch 2/100\n",
      "13/13 [==============================] - 22s 2s/step - loss: 1.4667 - accuracy: 0.4129 - val_loss: 1.2313 - val_accuracy: 0.4589\n",
      "Epoch 3/100\n",
      "13/13 [==============================] - 22s 2s/step - loss: 1.0804 - accuracy: 0.4760 - val_loss: 0.9804 - val_accuracy: 0.5212\n",
      "Epoch 4/100\n",
      "13/13 [==============================] - 22s 2s/step - loss: 0.7508 - accuracy: 0.6465 - val_loss: 0.7572 - val_accuracy: 0.6833\n",
      "Epoch 5/100\n",
      "13/13 [==============================] - 22s 2s/step - loss: 0.6300 - accuracy: 0.8457 - val_loss: 0.8225 - val_accuracy: 0.7232\n",
      "Epoch 6/100\n",
      "13/13 [==============================] - 22s 2s/step - loss: 0.3698 - accuracy: 0.9288 - val_loss: 0.7911 - val_accuracy: 0.7830\n",
      "Epoch 7/100\n",
      "13/13 [==============================] - 29s 2s/step - loss: 0.2340 - accuracy: 0.9656 - val_loss: 0.6476 - val_accuracy: 0.8204\n",
      "Epoch 8/100\n",
      "13/13 [==============================] - 29s 2s/step - loss: 0.1177 - accuracy: 0.9831 - val_loss: 0.5812 - val_accuracy: 0.8155\n",
      "Epoch 9/100\n",
      "13/13 [==============================] - 24s 2s/step - loss: 0.0318 - accuracy: 0.9938 - val_loss: 0.5626 - val_accuracy: 0.8254\n",
      "Epoch 10/100\n",
      "13/13 [==============================] - 24s 2s/step - loss: 0.0133 - accuracy: 0.9975 - val_loss: 0.5155 - val_accuracy: 0.8603\n",
      "Epoch 11/100\n",
      "13/13 [==============================] - 25s 2s/step - loss: 0.0051 - accuracy: 0.9981 - val_loss: 0.5047 - val_accuracy: 0.8778\n",
      "Epoch 12/100\n",
      "13/13 [==============================] - 24s 2s/step - loss: 0.0029 - accuracy: 0.9994 - val_loss: 0.5004 - val_accuracy: 0.8703\n",
      "Epoch 13/100\n",
      "13/13 [==============================] - 23s 2s/step - loss: 0.0019 - accuracy: 1.0000 - val_loss: 0.5171 - val_accuracy: 0.8778\n",
      "Epoch 14/100\n",
      "13/13 [==============================] - 22s 2s/step - loss: 0.0016 - accuracy: 1.0000 - val_loss: 0.5352 - val_accuracy: 0.8778\n",
      "Epoch 15/100\n",
      "13/13 [==============================] - 22s 2s/step - loss: 9.0335e-04 - accuracy: 1.0000 - val_loss: 0.5438 - val_accuracy: 0.8803\n",
      "Epoch 16/100\n",
      "13/13 [==============================] - 24s 2s/step - loss: 0.0026 - accuracy: 0.9994 - val_loss: 0.5305 - val_accuracy: 0.8753\n",
      "Epoch 17/100\n",
      "13/13 [==============================] - 23s 2s/step - loss: 7.3094e-04 - accuracy: 1.0000 - val_loss: 0.5252 - val_accuracy: 0.8728\n",
      "Restoring model weights from the end of the best epoch: 12.\n",
      "Epoch 17: early stopping\n"
     ]
    }
   ],
   "source": [
    "history = model.fit(X_train, y_train, epochs=100,verbose=1,batch_size=128, validation_split=0.2, callbacks=callback_list)"
   ]
  },
  {
   "cell_type": "code",
   "execution_count": 15,
   "metadata": {},
   "outputs": [
    {
     "data": {
      "image/png": "[encoded data removed]",
      "text/plain": [
       "<Figure size 432x288 with 1 Axes>"
      ]
     },
     "metadata": {
      "needs_background": "light"
     },
     "output_type": "display_data"
    },
    {
     "data": {
      "image/png": "[encoded data removed]",
      "text/plain": [
       "<Figure size 432x288 with 1 Axes>"
      ]
     },
     "metadata": {
      "needs_background": "light"
     },
     "output_type": "display_data"
    }
   ],
   "source": [
    "# Plot history\n",
    "\n",
    "# Accuray \n",
    "plt.plot(history.history['accuracy'],'r')\n",
    "plt.plot(history.history['val_accuracy'],'b')\n",
    "plt.title('model accuracy')\n",
    "plt.ylabel('accuracy')\n",
    "plt.xlabel('epoch')\n",
    "plt.legend(['train', 'test'], loc='upper left')\n",
    "plt.show()\n",
    "# Loss \n",
    "plt.plot(history.history['loss'],'r')\n",
    "plt.plot(history.history['val_loss'],'b')\n",
    "\n",
    "plt.title('model loss')\n",
    "plt.ylabel('loss')\n",
    "plt.xlabel('epoch')\n",
    "plt.legend(['train', 'test'], loc='upper left')\n",
    "plt.show()"
   ]
  },
  {
   "cell_type": "code",
   "execution_count": 16,
   "metadata": {},
   "outputs": [
    {
     "name": "stdout",
     "output_type": "stream",
     "text": [
      "              precision    recall  f1-score   support\n",
      "\n",
      "           0       0.93      0.78      0.85        51\n",
      "           1       0.81      0.87      0.84        39\n",
      "           2       0.77      0.81      0.79        42\n",
      "           3       1.00      0.96      0.98        51\n",
      "           4       0.78      0.88      0.82        40\n",
      "\n",
      "    accuracy                           0.86       223\n",
      "   macro avg       0.86      0.86      0.86       223\n",
      "weighted avg       0.87      0.86      0.86       223\n",
      "\n",
      "[[40  1  6  0  4]\n",
      " [ 0 34  2  0  3]\n",
      " [ 2  3 34  0  3]\n",
      " [ 0  2  0 49  0]\n",
      " [ 1  2  2  0 35]]\n",
      "86.09865470852019\n"
     ]
    }
   ],
   "source": [
    "# Validate model on training set\n",
    "rounded_labels=np.argmax(y_test, axis=1)\n",
    "\n",
    "y_pred = np.argmax(model.predict(X_test),axis=-1)\n",
    "\n",
    "print(classification_report(rounded_labels, y_pred))\n",
    "\n",
    "cf = confusion_matrix(rounded_labels, y_pred)\n",
    "\n",
    "print(cf)\n",
    "print(accuracy_score(rounded_labels, y_pred) * 100) "
   ]
  },
  {
   "cell_type": "code",
   "execution_count": null,
   "metadata": {},
   "outputs": [],
   "source": []
  }
 ],
 "metadata": {
  "interpreter": {
   "hash": "cc932b67d2988ca90fc668a584cefdcdfce78a2269dd29e4bc9704940b126ff4"
  },
  "kernelspec": {
   "display_name": "Python 3.10.3 64-bit",
   "language": "python",
   "name": "python3"
  },
  "language_info": {
   "codemirror_mode": {
    "name": "ipython",
    "version": 3
   },
   "file_extension": ".py",
   "mimetype": "text/x-python",
   "name": "python",
   "nbconvert_exporter": "python",
   "pygments_lexer": "ipython3",
   "version": "3.10.3"
  },
  "orig_nbformat": 4
 },
 "nbformat": 4,
 "nbformat_minor": 2
}
