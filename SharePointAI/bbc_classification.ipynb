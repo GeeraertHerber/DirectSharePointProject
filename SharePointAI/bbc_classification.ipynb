{
 "cells": [
  {
   "cell_type": "code",
   "execution_count": 3,
   "metadata": {},
   "outputs": [
    {
     "name": "stdout",
     "output_type": "stream",
     "text": [
      "[PhysicalDevice(name='/physical_device:GPU:0', device_type='GPU')]\n"
     ]
    }
   ],
   "source": [
    "import os\n",
    "os.environ[\"KERAS_BACKEND\"] = \"tensorflow\"\n",
    "\n",
    "import matplotlib.pyplot as plt\n",
    "import pandas as pd\n",
    "import numpy as np\n",
    "import seaborn as sns\n",
    "import sys\n",
    "from sklearn import preprocessing\n",
    "from sklearn.preprocessing import MinMaxScaler, StandardScaler, RobustScaler\n",
    "from sklearn.metrics import confusion_matrix,accuracy_score, classification_report\n",
    "from sklearn.model_selection import train_test_split\n",
    "from sklearn.metrics.pairwise import euclidean_distances, cosine_similarity\n",
    "from sklearn.utils import shuffle\n",
    "from sklearn.utils import class_weight\n",
    "from sklearn.metrics import r2_score\n",
    "from sklearn.metrics import mean_absolute_error\n",
    "import tensorflow as tf\n",
    "import tensorflow.python.keras\n",
    "from tensorflow.python.keras.models import Sequential\n",
    "from tensorflow.keras.layers import Dense, Dropout, Flatten, Activation, BatchNormalization,SpatialDropout1D,Bidirectional, Embedding, LSTM\n",
    "from tensorflow.python.keras import backend as K\n",
    "from tensorflow.keras.utils import to_categorical\n",
    "from tensorflow.python.keras.callbacks import EarlyStopping\n",
    "from tensorflow.keras.preprocessing.sequence import pad_sequences\n",
    "from tensorflow.keras.preprocessing.text import Tokenizer, text_to_word_sequence\n",
    "import re\n",
    "\n",
    "np.set_printoptions(threshold=sys.maxsize)\n",
    "\n",
    "pd.set_option('display.max_rows',1000)\n",
    "pd.set_option('display.max_columns',1000)\n",
    "\n",
    "# GPU support\n",
    "physical_devices = tf.config.experimental.list_physical_devices('GPU')\n",
    "print(physical_devices)\n",
    "tf.config.experimental.set_memory_growth(physical_devices[0], True)"
   ]
  },
  {
   "cell_type": "code",
   "execution_count": 2,
   "metadata": {},
   "outputs": [
    {
     "name": "stdout",
     "output_type": "stream",
     "text": [
      "['./archive/bbc', 'business']\n",
      "['./archive/bbc', 'entertainment']\n",
      "['./archive/bbc', 'politics']\n",
      "['./archive/bbc', 'sport']\n",
      "['./archive/bbc', 'tech']\n",
      "['./archive/bbc']\n"
     ]
    }
   ],
   "source": [
    "labels = [\"business\", \"entertainment\", \"politics\", \"sport\", \"tech\"]\n",
    "targets = [0,1,2,3,4]\n",
    "dataset = []\n",
    "for root, dirs, files in os.walk(\"./archive/bbc\", topdown=False):\n",
    "    class_type = root.split(\"\\\\\")\n",
    "    print(class_type)\n",
    "    if len(class_type)> 1:\n",
    "        for file in files: \n",
    "            with open(root+\"/\"+file) as f: \n",
    "                text = f.read()\n",
    "                dataset.append([class_type[1], text])  "
   ]
  },
  {
   "cell_type": "code",
   "execution_count": 3,
   "metadata": {},
   "outputs": [
    {
     "name": "stdout",
     "output_type": "stream",
     "text": [
      "2225\n"
     ]
    }
   ],
   "source": [
    "print(len(dataset))"
   ]
  },
  {
   "cell_type": "code",
   "execution_count": 4,
   "metadata": {},
   "outputs": [],
   "source": [
    "import pickle\n",
    "\n",
    "with open('./archive/bbc/dataset.list', \"wb\") as f: \n",
    "    pickle.dump(dataset, f)"
   ]
  },
  {
   "cell_type": "code",
   "execution_count": 1,
   "metadata": {},
   "outputs": [
    {
     "name": "stdout",
     "output_type": "stream",
     "text": [
      "2225\n"
     ]
    }
   ],
   "source": [
    "import pickle\n",
    "\n",
    "with open('./archive/bbc/dataset.list', \"rb\") as f: \n",
    "    dataset = pickle.load(f)\n",
    "\n",
    "print(len(dataset))"
   ]
  },
  {
   "cell_type": "code",
   "execution_count": 4,
   "metadata": {},
   "outputs": [],
   "source": [
    "dataset = pd.DataFrame(list(dataset), columns=[\"labels\", \"text\"])"
   ]
  },
  {
   "cell_type": "code",
   "execution_count": 5,
   "metadata": {},
   "outputs": [
    {
     "data": {
      "text/plain": [
       "<AxesSubplot:xlabel='labels', ylabel='count'>"
      ]
     },
     "execution_count": 5,
     "metadata": {},
     "output_type": "execute_result"
    },
    {
     "data": {
      "image/png": "[encoded data removed]",
      "text/plain": [
       "<Figure size 432x288 with 1 Axes>"
      ]
     },
     "metadata": {
      "needs_background": "light"
     },
     "output_type": "display_data"
    }
   ],
   "source": [
    "sns.countplot(x=\"labels\", data=dataset)"
   ]
  },
  {
   "cell_type": "code",
   "execution_count": 6,
   "metadata": {},
   "outputs": [],
   "source": [
    "dataset[\"labels\"] = dataset[\"labels\"].replace({\"business\":0, \"entertainment\":1, \"politics\":2, \"sport\":3, \"tech\":4})"
   ]
  },
  {
   "cell_type": "code",
   "execution_count": 7,
   "metadata": {},
   "outputs": [],
   "source": [
    "X = dataset[\"text\"].values\n",
    "y = dataset[\"labels\"].values\n",
    "\n",
    "y = to_categorical(y)"
   ]
  },
  {
   "cell_type": "code",
   "execution_count": 8,
   "metadata": {},
   "outputs": [],
   "source": [
    "tokenizer = Tokenizer(num_words= None, lower=True)\n",
    "tokenizer.fit_on_texts(X)\n",
    "sequences = tokenizer.texts_to_sequences(X)\n",
    "\n",
    "# # Example\n",
    "# print(X[0])\n",
    "# print(sequences[0])"
   ]
  },
  {
   "cell_type": "code",
   "execution_count": 29,
   "metadata": {},
   "outputs": [
    {
     "name": "stdout",
     "output_type": "stream",
     "text": [
      "[ 4366     2  9962     1   114    12  1165     7     5   216    16   786\n",
      "    99  4888 20599  2669     3     5  1266     6  3300   264    34    12\n",
      "    35   613    17  2177  1471    12    22    67   640     1   444     3\n",
      "    40  1266     6  3300   264    17     5  1197    10     1   792     3\n",
      "     9  1266]\n"
     ]
    }
   ],
   "source": [
    "X_encoded = pad_sequences(sequences, maxlen=50, padding='post')\n",
    "\n",
    "print(X_encoded[0])"
   ]
  },
  {
   "cell_type": "code",
   "execution_count": 30,
   "metadata": {},
   "outputs": [],
   "source": [
    "# Split into training set and test set. Use a test size = 3000 and a random state = 0\n",
    "X_train, X_test, y_train, y_test = train_test_split(X_encoded, y, test_size=0.10, random_state=0,stratify = y)"
   ]
  },
  {
   "cell_type": "code",
   "execution_count": 31,
   "metadata": {},
   "outputs": [
    {
     "name": "stdout",
     "output_type": "stream",
     "text": [
      "WARNING:tensorflow:Layer lstm_3 will not use cuDNN kernels since it doesn't meet the criteria. It will use a generic GPU kernel as fallback when running on GPU.\n"
     ]
    }
   ],
   "source": [
    "# Design a LSTM neural network and use an embedding layer.\n",
    "vocabulary_size = X_train.max()\n",
    "\n",
    "model = Sequential()\n",
    "\n",
    "model.add(Embedding(vocabulary_size+1, 150, input_length=50))\n",
    "model.add(SpatialDropout1D(0.3))\n",
    "# model.add(LSTM(500,return_sequences=True, dropout=0.2, recurrent_dropout=0.15))\n",
    "model.add(LSTM(150, dropout=0.10, recurrent_dropout=0.1))\n",
    "model.add(Dense(750, activation='relu'))\n",
    "model.add(Dense(50, activation='relu'))\n",
    "model.add(Dense(5, activation='sigmoid'))\n",
    "model.compile(loss='categorical_crossentropy', optimizer='adam', metrics=['accuracy'])\n",
    "\n"
   ]
  },
  {
   "cell_type": "code",
   "execution_count": 32,
   "metadata": {},
   "outputs": [],
   "source": [
    "from tensorflow.keras.callbacks import TensorBoard, EarlyStopping, ModelCheckpoint\n",
    "import time\n",
    "from datetime import datetime, date\n",
    "es = EarlyStopping(monitor='val_loss', mode='min', verbose=1, min_delta=0.001, patience=5, restore_best_weights=True)\n",
    "\n",
    "END = f'{datetime.timestamp(datetime.now())}_{date.today().strftime(\"%b-%d-%Y\")}'\n",
    "\n",
    "NAME = 'logs/bbc/bbc_classification_log_{}'.format(int(time.time()))\n",
    "tensorboard = TensorBoard(log_dir=f'{NAME}_{END}')\n",
    "\n",
    "checkpoint_filepath = f'models/bbc/bbc_classification_{END}.h5'\n",
    "checkpointer = ModelCheckpoint(filepath=checkpoint_filepath,save_weights_only=True,monitor='val_accuracy',mode='max',save_best_only=True)\n",
    "\n",
    "callback_list = [tensorboard, checkpointer, es]"
   ]
  },
  {
   "cell_type": "code",
   "execution_count": 33,
   "metadata": {},
   "outputs": [
    {
     "name": "stdout",
     "output_type": "stream",
     "text": [
      "WARNING:tensorflow:Model failed to serialize as JSON. Ignoring... Layer ModuleWrapper has arguments in `__init__` and therefore must override `get_config`.\n",
      "Epoch 1/100\n",
      "13/13 [==============================] - 16s 1s/step - loss: 1.6048 - accuracy: 0.2505 - val_loss: 1.5878 - val_accuracy: 0.2494\n",
      "Epoch 2/100\n",
      "13/13 [==============================] - 14s 1s/step - loss: 1.4344 - accuracy: 0.3823 - val_loss: 1.2417 - val_accuracy: 0.4713\n",
      "Epoch 3/100\n",
      "13/13 [==============================] - 11s 818ms/step - loss: 1.0358 - accuracy: 0.4991 - val_loss: 1.0110 - val_accuracy: 0.6409\n",
      "Epoch 4/100\n",
      "13/13 [==============================] - 11s 826ms/step - loss: 0.6985 - accuracy: 0.7570 - val_loss: 0.8574 - val_accuracy: 0.6209\n",
      "Epoch 5/100\n",
      "13/13 [==============================] - 11s 830ms/step - loss: 0.3174 - accuracy: 0.9113 - val_loss: 0.7708 - val_accuracy: 0.7257\n",
      "Epoch 6/100\n",
      "13/13 [==============================] - 11s 825ms/step - loss: 0.1130 - accuracy: 0.9669 - val_loss: 0.7437 - val_accuracy: 0.7606\n",
      "Epoch 7/100\n",
      "13/13 [==============================] - 11s 873ms/step - loss: 0.0491 - accuracy: 0.9869 - val_loss: 0.8633 - val_accuracy: 0.7606\n",
      "Epoch 8/100\n",
      "13/13 [==============================] - 11s 817ms/step - loss: 0.0205 - accuracy: 0.9963 - val_loss: 1.1806 - val_accuracy: 0.6908\n",
      "Epoch 9/100\n",
      "13/13 [==============================] - 12s 964ms/step - loss: 0.0165 - accuracy: 0.9938 - val_loss: 0.9298 - val_accuracy: 0.7731\n",
      "Epoch 10/100\n",
      "13/13 [==============================] - 12s 946ms/step - loss: 0.0100 - accuracy: 0.9981 - val_loss: 0.9711 - val_accuracy: 0.7606\n",
      "Epoch 11/100\n",
      "13/13 [==============================] - 12s 935ms/step - loss: 0.0165 - accuracy: 0.9938 - val_loss: 1.0094 - val_accuracy: 0.7357\n",
      "Restoring model weights from the end of the best epoch: 6.\n",
      "Epoch 11: early stopping\n"
     ]
    }
   ],
   "source": [
    "history = model.fit(X_train, y_train, epochs=100,verbose=1,batch_size=128, validation_split=0.2, callbacks=callback_list)"
   ]
  },
  {
   "cell_type": "code",
   "execution_count": 27,
   "metadata": {},
   "outputs": [
    {
     "data": {
      "image/png": "[encoded data removed]",
      "text/plain": [
       "<Figure size 432x288 with 1 Axes>"
      ]
     },
     "metadata": {
      "needs_background": "light"
     },
     "output_type": "display_data"
    },
    {
     "data": {
      "image/png": "[encoded data removed]",
      "text/plain": [
       "<Figure size 432x288 with 1 Axes>"
      ]
     },
     "metadata": {
      "needs_background": "light"
     },
     "output_type": "display_data"
    }
   ],
   "source": [
    "# Plot history\n",
    "\n",
    "# Accuray \n",
    "plt.plot(history.history['accuracy'],'r')\n",
    "plt.plot(history.history['val_accuracy'],'b')\n",
    "plt.title('model accuracy')\n",
    "plt.ylabel('accuracy')\n",
    "plt.xlabel('epoch')\n",
    "plt.legend(['train', 'test'], loc='upper left')\n",
    "plt.show()\n",
    "# Loss \n",
    "plt.plot(history.history['loss'],'r')\n",
    "plt.plot(history.history['val_loss'],'b')\n",
    "\n",
    "plt.title('model loss')\n",
    "plt.ylabel('loss')\n",
    "plt.xlabel('epoch')\n",
    "plt.legend(['train', 'test'], loc='upper left')\n",
    "plt.show()"
   ]
  },
  {
   "cell_type": "code",
   "execution_count": 28,
   "metadata": {},
   "outputs": [
    {
     "name": "stdout",
     "output_type": "stream",
     "text": [
      "              precision    recall  f1-score   support\n",
      "\n",
      "           0       0.98      0.80      0.88        51\n",
      "           1       0.76      0.74      0.75        39\n",
      "           2       0.63      0.74      0.68        42\n",
      "           3       0.96      1.00      0.98        51\n",
      "           4       0.73      0.75      0.74        40\n",
      "\n",
      "    accuracy                           0.82       223\n",
      "   macro avg       0.81      0.81      0.81       223\n",
      "weighted avg       0.83      0.82      0.82       223\n",
      "\n",
      "[[41  0  5  0  5]\n",
      " [ 0 29  8  2  0]\n",
      " [ 0  5 31  0  6]\n",
      " [ 0  0  0 51  0]\n",
      " [ 1  4  5  0 30]]\n",
      "81.61434977578476\n"
     ]
    }
   ],
   "source": [
    "# Validate model on training set\n",
    "rounded_labels=np.argmax(y_test, axis=1)\n",
    "\n",
    "y_pred = np.argmax(model.predict(X_test),axis=-1)\n",
    "\n",
    "print(classification_report(rounded_labels, y_pred))\n",
    "\n",
    "cf = confusion_matrix(rounded_labels, y_pred)\n",
    "\n",
    "print(cf)\n",
    "print(accuracy_score(rounded_labels, y_pred) * 100) "
   ]
  },
  {
   "cell_type": "code",
   "execution_count": null,
   "metadata": {},
   "outputs": [],
   "source": []
  }
 ],
 "metadata": {
  "interpreter": {
   "hash": "cc932b67d2988ca90fc668a584cefdcdfce78a2269dd29e4bc9704940b126ff4"
  },
  "kernelspec": {
   "display_name": "Python 3.10.3 64-bit",
   "language": "python",
   "name": "python3"
  },
  "language_info": {
   "codemirror_mode": {
    "name": "ipython",
    "version": 3
   },
   "file_extension": ".py",
   "mimetype": "text/x-python",
   "name": "python",
   "nbconvert_exporter": "python",
   "pygments_lexer": "ipython3",
   "version": "3.10.3"
  },
  "orig_nbformat": 4
 },
 "nbformat": 4,
 "nbformat_minor": 2
}
