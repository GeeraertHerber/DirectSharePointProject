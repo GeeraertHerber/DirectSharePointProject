{
 "cells": [
  {
   "cell_type": "code",
   "execution_count": 1,
   "metadata": {},
   "outputs": [
    {
     "name": "stdout",
     "output_type": "stream",
     "text": [
      "[PhysicalDevice(name='/physical_device:GPU:0', device_type='GPU')]\n"
     ]
    }
   ],
   "source": [
    "import os\n",
    "os.environ[\"KERAS_BACKEND\"] = \"tensorflow\"\n",
    "\n",
    "import matplotlib.pyplot as plt\n",
    "import pandas as pd\n",
    "import numpy as np\n",
    "import seaborn as sns\n",
    "import sys\n",
    "from sklearn import preprocessing\n",
    "from sklearn.preprocessing import MinMaxScaler, StandardScaler, RobustScaler\n",
    "from sklearn.metrics import confusion_matrix,accuracy_score, classification_report\n",
    "from sklearn.model_selection import train_test_split\n",
    "from sklearn.metrics.pairwise import euclidean_distances, cosine_similarity\n",
    "from sklearn.utils import shuffle\n",
    "from sklearn.utils import class_weight\n",
    "from sklearn.metrics import r2_score\n",
    "from sklearn.metrics import mean_absolute_error\n",
    "import tensorflow as tf\n",
    "import tensorflow.python.keras\n",
    "from tensorflow.python.keras.models import Sequential\n",
    "from tensorflow.keras.layers import Dense, Dropout, Flatten, Activation, BatchNormalization,SpatialDropout1D,Bidirectional, Embedding, LSTM\n",
    "from tensorflow.python.keras import backend as K\n",
    "from tensorflow.keras.utils import to_categorical\n",
    "from tensorflow.python.keras.callbacks import EarlyStopping\n",
    "from tensorflow.keras.preprocessing.sequence import pad_sequences\n",
    "from tensorflow.keras.preprocessing.text import Tokenizer, text_to_word_sequence\n",
    "import re\n",
    "\n",
    "np.set_printoptions(threshold=sys.maxsize)\n",
    "\n",
    "pd.set_option('display.max_rows',1000)\n",
    "pd.set_option('display.max_columns',1000)\n",
    "\n",
    "# GPU support\n",
    "physical_devices = tf.config.experimental.list_physical_devices('GPU')\n",
    "print(physical_devices)\n",
    "tf.config.experimental.set_memory_growth(physical_devices[0], True)"
   ]
  },
  {
   "cell_type": "code",
   "execution_count": 28,
   "metadata": {},
   "outputs": [
    {
     "name": "stdout",
     "output_type": "stream",
     "text": [
      "['1', 'champion products ch approves stock split champion products inc said its board of directors approved a two for one stock split of its common shares for shareholders of record as of april the company also said its board voted to recommend to shareholders at the annual meeting april an increase in the authorized capital stock from five mln to mln shares reuter \\n']\n"
     ]
    }
   ],
   "source": [
    "file = \"dataset_file/file.txt\"\n",
    "\n",
    "splitted_line = []\n",
    "\n",
    "with open(file) as f:\n",
    "    for line in f.readlines():\n",
    "        # print(line)\n",
    "        if  int(line[0]) in [1,2,3,4]:\n",
    "            splitted_line.append([line[0], line[2:]])\n",
    "\n",
    "\n",
    "print(splitted_line.pop(0))\n",
    "\n"
   ]
  },
  {
   "cell_type": "code",
   "execution_count": 29,
   "metadata": {},
   "outputs": [],
   "source": [
    "dataset = pd.DataFrame(list(splitted_line), columns=[\"labels\", \"text\"])"
   ]
  },
  {
   "cell_type": "code",
   "execution_count": 30,
   "metadata": {},
   "outputs": [
    {
     "data": {
      "text/html": [
       "<div>\n",
       "<style scoped>\n",
       "    .dataframe tbody tr th:only-of-type {\n",
       "        vertical-align: middle;\n",
       "    }\n",
       "\n",
       "    .dataframe tbody tr th {\n",
       "        vertical-align: top;\n",
       "    }\n",
       "\n",
       "    .dataframe thead th {\n",
       "        text-align: right;\n",
       "    }\n",
       "</style>\n",
       "<table border=\"1\" class=\"dataframe\">\n",
       "  <thead>\n",
       "    <tr style=\"text-align: right;\">\n",
       "      <th></th>\n",
       "      <th>labels</th>\n",
       "      <th>text</th>\n",
       "    </tr>\n",
       "  </thead>\n",
       "  <tbody>\n",
       "    <tr>\n",
       "      <th>0</th>\n",
       "      <td>2</td>\n",
       "      <td>computer terminal systems cpml completes sale ...</td>\n",
       "    </tr>\n",
       "    <tr>\n",
       "      <th>1</th>\n",
       "      <td>1</td>\n",
       "      <td>cobanco inc cbco year net shr cts vs dlrs net ...</td>\n",
       "    </tr>\n",
       "    <tr>\n",
       "      <th>2</th>\n",
       "      <td>1</td>\n",
       "      <td>am international inc am nd qtr jan oper shr lo...</td>\n",
       "    </tr>\n",
       "    <tr>\n",
       "      <th>3</th>\n",
       "      <td>1</td>\n",
       "      <td>brown forman inc bfd th qtr net shr one dlr vs...</td>\n",
       "    </tr>\n",
       "    <tr>\n",
       "      <th>4</th>\n",
       "      <td>1</td>\n",
       "      <td>dean foods df sees strong th qtr earnings dean...</td>\n",
       "    </tr>\n",
       "  </tbody>\n",
       "</table>\n",
       "</div>"
      ],
      "text/plain": [
       "  labels                                               text\n",
       "0      2  computer terminal systems cpml completes sale ...\n",
       "1      1  cobanco inc cbco year net shr cts vs dlrs net ...\n",
       "2      1  am international inc am nd qtr jan oper shr lo...\n",
       "3      1  brown forman inc bfd th qtr net shr one dlr vs...\n",
       "4      1  dean foods df sees strong th qtr earnings dean..."
      ]
     },
     "execution_count": 30,
     "metadata": {},
     "output_type": "execute_result"
    }
   ],
   "source": [
    "dataset.head()"
   ]
  },
  {
   "cell_type": "code",
   "execution_count": 31,
   "metadata": {},
   "outputs": [],
   "source": [
    "X = dataset[\"text\"].values\n",
    "y = dataset[\"labels\"].values\n",
    "\n",
    "y = to_categorical(y)"
   ]
  },
  {
   "cell_type": "code",
   "execution_count": 32,
   "metadata": {},
   "outputs": [
    {
     "name": "stdout",
     "output_type": "stream",
     "text": [
      "computer terminal systems cpml completes sale computer terminal systems inc said it has completed the sale of shares of its common stock and warrants to acquire an additional one mln shares to sedio n v of lugano switzerland for dlrs the company said the warrants are exercisable for five years at a purchase price of dlrs per share computer terminal said sedio also has the right to buy additional shares and increase its total holdings up to pct of the computer terminal s outstanding common stock under certain circumstances involving change of control at the company the company said if the conditions occur the warrants would be exercisable at a price equal to pct of its common stock s market price at the time not to exceed dlrs per share computer terminal also said it sold the technolgy rights to its dot matrix impact technology including any future improvements to woodco inc of houston tex for dlrs but it said it would continue to be the exclusive worldwide licensee of the technology for woodco the company said the moves were part of its reorganization plan and would help pay current operation costs and ensure product delivery computer terminal makes computer generated labels forms tags and ticket printers and terminals reuter \n",
      "\n",
      "[356, 2036, 201, 10760, 566, 82, 356, 2036, 201, 23, 9, 12, 35, 263, 1, 82, 2, 36, 2, 18, 81, 46, 8, 820, 3, 155, 44, 400, 53, 4, 36, 3, 8060, 351, 1714, 2, 10761, 2397, 13, 10, 1, 21, 9, 1, 820, 70, 2206, 13, 112, 220, 38, 7, 186, 149, 2, 10, 66, 31, 356, 2036, 9, 8060, 62, 35, 1, 504, 3, 118, 400, 36, 8, 168, 18, 132, 283, 87, 3, 26, 2, 1, 356, 2036, 14, 152, 81, 46, 126, 361, 1715, 1881, 457, 2, 256, 38, 1, 21, 1, 21, 9, 130, 1, 549, 2638, 1, 820, 47, 33, 2206, 38, 7, 149, 1106, 3, 26, 2, 18, 81, 46, 14, 122, 149, 38, 1, 207, 48, 3, 1308, 10, 66, 31, 356, 2036, 62, 9, 12, 247, 1, 10762, 385, 3, 18, 1214, 6587, 739, 433, 305, 190, 357, 2302, 3, 8061, 23, 2, 1278, 8062, 13, 10, 63, 12, 9, 12, 47, 348, 3, 33, 1, 2973, 1012, 3406, 2, 1, 433, 13, 8061, 1, 21, 9, 1, 1215, 76, 253, 2, 18, 1360, 224, 8, 47, 667, 96, 159, 646, 271, 8, 2037, 632, 1427, 356, 2036, 625, 356, 2974, 5636, 2639, 10763, 8, 3986, 4936, 8, 3664, 15]\n"
     ]
    }
   ],
   "source": [
    "tokenizer = Tokenizer(num_words= None)\n",
    "tokenizer.fit_on_texts(X)\n",
    "sequences = tokenizer.texts_to_sequences(X)\n",
    "\n",
    "# # Example\n",
    "# print(X[0])\n",
    "# print(sequences[0])"
   ]
  },
  {
   "cell_type": "code",
   "execution_count": 33,
   "metadata": {},
   "outputs": [
    {
     "name": "stdout",
     "output_type": "stream",
     "text": [
      "[  356  2036    62     9    12   247     1 10762   385     3    18  1214\n",
      "  6587   739   433   305   190   357  2302     3  8061    23     2  1278\n",
      "  8062    13    10    63    12     9    12    47   348     3    33     1\n",
      "  2973  1012  3406     2     1   433    13  8061     1    21     9     1\n",
      "  1215    76   253     2    18  1360   224     8    47   667    96   159\n",
      "   646   271     8  2037   632  1427   356  2036   625   356  2974  5636\n",
      "  2639 10763     8  3986  4936     8  3664    15]\n"
     ]
    }
   ],
   "source": [
    "X_encoded = pad_sequences(sequences, maxlen=80, padding='post')\n",
    "\n",
    "print(X_encoded[0])"
   ]
  },
  {
   "cell_type": "code",
   "execution_count": 42,
   "metadata": {},
   "outputs": [],
   "source": [
    "# Split into training set and test set. Use a test size = 3000 and a random state = 0\n",
    "X_train, X_test, y_train, y_test = train_test_split(X_encoded, y, test_size=0.10, random_state=0,stratify = y)"
   ]
  },
  {
   "cell_type": "code",
   "execution_count": 45,
   "metadata": {},
   "outputs": [],
   "source": [
    "X_train_one, X_train_two, y_train_one, y_test_two = train_test_split(X_train, y_train, test_size=0.50, random_state=44,stratify = y_train)"
   ]
  },
  {
   "cell_type": "code",
   "execution_count": 47,
   "metadata": {},
   "outputs": [
    {
     "name": "stdout",
     "output_type": "stream",
     "text": [
      "WARNING:tensorflow:Layer lstm_3 will not use cuDNN kernels since it doesn't meet the criteria. It will use a generic GPU kernel as fallback when running on GPU.\n"
     ]
    }
   ],
   "source": [
    "# Design a LSTM neural network and use an embedding layer.\n",
    "vocabulary_size = X_train_one.max()\n",
    "\n",
    "model = Sequential()\n",
    "model.add(Embedding(vocabulary_size+1, 150, input_length=80))\n",
    "model.add(SpatialDropout1D(0.3))\n",
    "# model.add(LSTM(500,return_sequences=True, dropout=0.2, recurrent_dropout=0.15))\n",
    "model.add(LSTM(100, dropout=0.1, recurrent_dropout=0.1))\n",
    "model.add(Dense(500, activation='relu'))\n",
    "model.add(Dense(5, activation='sigmoid'))\n",
    "model.compile(loss='categorical_crossentropy', optimizer='adam', metrics=['accuracy'])\n",
    "\n"
   ]
  },
  {
   "cell_type": "code",
   "execution_count": 22,
   "metadata": {},
   "outputs": [],
   "source": [
    "from tensorflow.keras.callbacks import TensorBoard, EarlyStopping, ModelCheckpoint\n",
    "import time\n",
    "from datetime import datetime, date\n",
    "es = EarlyStopping(monitor='val_loss', mode='min', verbose=1, min_delta=0.001, patience=5, restore_best_weights=True)\n",
    "\n",
    "END = f'{datetime.timestamp(datetime.now())}_{date.today().strftime(\"%b-%d-%Y\")}'\n",
    "\n",
    "NAME = 'logs/text_classification_model{}'.format(int(time.time()))\n",
    "tensorboard = TensorBoard(log_dir=f'{NAME}_{END}')\n",
    "\n",
    "checkpoint_filepath = f'models/text_classification_{END}.h5'\n",
    "checkpointer = ModelCheckpoint(filepath=checkpoint_filepath,save_weights_only=True,monitor='val_accuracy',mode='max',save_best_only=True)\n",
    "\n",
    "callback_list = [tensorboard, checkpointer, es]"
   ]
  },
  {
   "cell_type": "code",
   "execution_count": 50,
   "metadata": {},
   "outputs": [
    {
     "name": "stdout",
     "output_type": "stream",
     "text": [
      "WARNING:tensorflow:Model failed to serialize as JSON. Ignoring... Layer ModuleWrapper has arguments in `__init__` and therefore must override `get_config`.\n",
      "Epoch 1/100\n",
      "14/14 [==============================] - 17s 1s/step - loss: 1.0595 - accuracy: 0.5994 - val_loss: 0.8919 - val_accuracy: 0.6713\n",
      "Epoch 2/100\n",
      "14/14 [==============================] - 18s 1s/step - loss: 0.8278 - accuracy: 0.6174 - val_loss: 0.8184 - val_accuracy: 0.6736\n",
      "Epoch 3/100\n",
      "14/14 [==============================] - 17s 1s/step - loss: 0.7458 - accuracy: 0.7003 - val_loss: 0.7568 - val_accuracy: 0.6644\n",
      "Epoch 4/100\n",
      "14/14 [==============================] - 17s 1s/step - loss: 0.6283 - accuracy: 0.7774 - val_loss: 0.6674 - val_accuracy: 0.7407\n",
      "Epoch 5/100\n",
      "14/14 [==============================] - 17s 1s/step - loss: 0.3793 - accuracy: 0.8754 - val_loss: 0.3328 - val_accuracy: 0.8958\n",
      "Epoch 6/100\n",
      "14/14 [==============================] - 16s 1s/step - loss: 0.2242 - accuracy: 0.9328 - val_loss: 0.4232 - val_accuracy: 0.8750\n",
      "Epoch 7/100\n",
      "14/14 [==============================] - 16s 1s/step - loss: 0.1482 - accuracy: 0.9536 - val_loss: 0.4006 - val_accuracy: 0.9097\n",
      "Epoch 8/100\n",
      "14/14 [==============================] - 16s 1s/step - loss: 0.1633 - accuracy: 0.9490 - val_loss: 0.2523 - val_accuracy: 0.9282\n",
      "Epoch 9/100\n",
      "14/14 [==============================] - 16s 1s/step - loss: 0.1297 - accuracy: 0.9600 - val_loss: 0.3416 - val_accuracy: 0.9051\n",
      "Epoch 10/100\n",
      "14/14 [==============================] - 17s 1s/step - loss: 0.1032 - accuracy: 0.9728 - val_loss: 0.3069 - val_accuracy: 0.9259\n",
      "Epoch 11/100\n",
      "14/14 [==============================] - 16s 1s/step - loss: 0.0844 - accuracy: 0.9745 - val_loss: 0.3644 - val_accuracy: 0.9120\n",
      "Epoch 12/100\n",
      "14/14 [==============================] - 26s 2s/step - loss: 0.0588 - accuracy: 0.9814 - val_loss: 0.3331 - val_accuracy: 0.9190\n",
      "Epoch 13/100\n",
      "14/14 [==============================] - 18s 1s/step - loss: 0.0434 - accuracy: 0.9878 - val_loss: 0.3672 - val_accuracy: 0.9190\n",
      "Restoring model weights from the end of the best epoch: 8.\n",
      "Epoch 13: early stopping\n"
     ]
    }
   ],
   "source": [
    "history = model.fit(X_train_one, y_train_one, epochs=100,verbose=1,batch_size=128, validation_split=0.2, callbacks=callback_list)"
   ]
  },
  {
   "cell_type": "code",
   "execution_count": 54,
   "metadata": {},
   "outputs": [
    {
     "name": "stdout",
     "output_type": "stream",
     "text": [
      "WARNING:tensorflow:Model failed to serialize as JSON. Ignoring... Layer ModuleWrapper has arguments in `__init__` and therefore must override `get_config`.\n",
      "Epoch 1/100\n",
      "14/14 [==============================] - 17s 1s/step - loss: 0.3071 - accuracy: 0.9107 - val_loss: 0.3540 - val_accuracy: 0.9051\n",
      "Epoch 2/100\n",
      "14/14 [==============================] - 17s 1s/step - loss: 0.1644 - accuracy: 0.9478 - val_loss: 0.2471 - val_accuracy: 0.9120\n",
      "Epoch 3/100\n",
      "14/14 [==============================] - 17s 1s/step - loss: 0.1028 - accuracy: 0.9693 - val_loss: 0.4014 - val_accuracy: 0.9028\n",
      "Epoch 4/100\n",
      "14/14 [==============================] - 18s 1s/step - loss: 0.0962 - accuracy: 0.9693 - val_loss: 0.3445 - val_accuracy: 0.9005\n",
      "Epoch 5/100\n",
      "14/14 [==============================] - 17s 1s/step - loss: 0.0790 - accuracy: 0.9757 - val_loss: 0.3086 - val_accuracy: 0.9074\n",
      "Epoch 6/100\n",
      "14/14 [==============================] - 16s 1s/step - loss: 0.0559 - accuracy: 0.9826 - val_loss: 0.2797 - val_accuracy: 0.9167\n",
      "Epoch 7/100\n",
      "14/14 [==============================] - 15s 1s/step - loss: 0.0452 - accuracy: 0.9809 - val_loss: 0.2703 - val_accuracy: 0.9074\n",
      "Restoring model weights from the end of the best epoch: 2.\n",
      "Epoch 7: early stopping\n"
     ]
    }
   ],
   "source": [
    "history = model.fit(X_train_two, y_test_two, epochs=100,verbose=1,batch_size=128, validation_split=0.2, callbacks=callback_list)"
   ]
  },
  {
   "cell_type": "code",
   "execution_count": 55,
   "metadata": {},
   "outputs": [
    {
     "data": {
      "image/png": "[encoded data removed]",
      "text/plain": [
       "<Figure size 432x288 with 1 Axes>"
      ]
     },
     "metadata": {
      "needs_background": "light"
     },
     "output_type": "display_data"
    },
    {
     "data": {
      "image/png": "[encoded data removed]",
      "text/plain": [
       "<Figure size 432x288 with 1 Axes>"
      ]
     },
     "metadata": {
      "needs_background": "light"
     },
     "output_type": "display_data"
    }
   ],
   "source": [
    "# Plot history\n",
    "\n",
    "# Accuray \n",
    "plt.plot(history.history['accuracy'],'r')\n",
    "plt.plot(history.history['val_accuracy'],'b')\n",
    "plt.title('model accuracy')\n",
    "plt.ylabel('accuracy')\n",
    "plt.xlabel('epoch')\n",
    "plt.legend(['train', 'test'], loc='upper left')\n",
    "plt.show()\n",
    "# Loss \n",
    "plt.plot(history.history['loss'],'r')\n",
    "plt.plot(history.history['val_loss'],'b')\n",
    "\n",
    "plt.title('model loss')\n",
    "plt.ylabel('loss')\n",
    "plt.xlabel('epoch')\n",
    "plt.legend(['train', 'test'], loc='upper left')\n",
    "plt.show()"
   ]
  },
  {
   "cell_type": "code",
   "execution_count": 56,
   "metadata": {},
   "outputs": [],
   "source": []
  },
  {
   "cell_type": "code",
   "execution_count": 57,
   "metadata": {},
   "outputs": [
    {
     "name": "stdout",
     "output_type": "stream",
     "text": [
      "              precision    recall  f1-score   support\n",
      "\n",
      "           1       0.99      0.94      0.97       284\n",
      "           2       0.88      0.98      0.93       160\n",
      "           3       0.71      0.80      0.75        25\n",
      "           4       0.50      0.09      0.15        11\n",
      "\n",
      "    accuracy                           0.93       480\n",
      "   macro avg       0.77      0.70      0.70       480\n",
      "weighted avg       0.93      0.93      0.92       480\n",
      "\n",
      "[[268  16   0   0]\n",
      " [  3 157   0   0]\n",
      " [  0   4  20   1]\n",
      " [  0   2   8   1]]\n",
      "92.91666666666667\n"
     ]
    }
   ],
   "source": [
    "# Validate model on training set\n",
    "rounded_labels=np.argmax(y_test, axis=1)\n",
    "\n",
    "y_pred = np.argmax(model.predict(X_test),axis=-1)\n",
    "\n",
    "print(classification_report(rounded_labels, y_pred))\n",
    "\n",
    "cf = confusion_matrix(rounded_labels, y_pred)\n",
    "\n",
    "print(cf)\n",
    "print(accuracy_score(rounded_labels, y_pred) * 100) "
   ]
  },
  {
   "cell_type": "code",
   "execution_count": 5,
   "metadata": {},
   "outputs": [
    {
     "name": "stdout",
     "output_type": "stream",
     "text": [
      "['./archive/bbc', 'business']\n",
      "['./archive/bbc', 'entertainment']\n",
      "['./archive/bbc', 'politics']\n",
      "['./archive/bbc', 'sport']\n",
      "['./archive/bbc', 'tech']\n",
      "['./archive/bbc']\n"
     ]
    }
   ],
   "source": [
    "labels = [\"business\", \"entertainment\", \"politics\", \"sport\", \"tech\"]\n",
    "targets = [0,1,2,3,4]\n",
    "dataset = []\n",
    "for root, dirs, files in os.walk(\"./archive/bbc\", topdown=False):\n",
    "    class_type = root.split(\"\\\\\")\n",
    "    print(class_type)\n",
    "    if len(class_type)> 1:\n",
    "        for file in files: \n",
    "            with open(root+\"/\"+file) as f: \n",
    "                text = f.read()\n",
    "                dataset.append([class_type[1], text])  "
   ]
  },
  {
   "cell_type": "code",
   "execution_count": 6,
   "metadata": {},
   "outputs": [
    {
     "name": "stdout",
     "output_type": "stream",
     "text": [
      "2225\n"
     ]
    }
   ],
   "source": [
    "print(len(dataset))"
   ]
  },
  {
   "cell_type": "code",
   "execution_count": 8,
   "metadata": {},
   "outputs": [],
   "source": [
    "import pickle\n",
    "\n",
    "with open('./archive/bbc/dataset.list', \"wb\") as f: \n",
    "    pickle.dump(dataset, f)"
   ]
  },
  {
   "cell_type": "code",
   "execution_count": 10,
   "metadata": {},
   "outputs": [
    {
     "name": "stdout",
     "output_type": "stream",
     "text": [
      "2225\n"
     ]
    }
   ],
   "source": [
    "with open('./archive/bbc/dataset.list', \"rb\") as f: \n",
    "    dataset = pickle.load(f)\n",
    "\n",
    "print(len(dataset))"
   ]
  },
  {
   "cell_type": "code",
   "execution_count": 12,
   "metadata": {},
   "outputs": [],
   "source": [
    "dataset = pd.DataFrame(list(dataset), columns=[\"labels\", \"text\"])"
   ]
  },
  {
   "cell_type": "code",
   "execution_count": 14,
   "metadata": {},
   "outputs": [],
   "source": [
    "dataset[\"labels\"] = dataset[\"labels\"].replace({\"business\":0, \"entertainment\":1, \"politics\":2, \"sport\":3, \"tech\":4})"
   ]
  },
  {
   "cell_type": "code",
   "execution_count": 15,
   "metadata": {},
   "outputs": [],
   "source": [
    "X = dataset[\"text\"].values\n",
    "y = dataset[\"labels\"].values\n",
    "\n",
    "y = to_categorical(y)"
   ]
  },
  {
   "cell_type": "code",
   "execution_count": 16,
   "metadata": {},
   "outputs": [],
   "source": [
    "tokenizer = Tokenizer(num_words= None)\n",
    "tokenizer.fit_on_texts(X)\n",
    "sequences = tokenizer.texts_to_sequences(X)\n",
    "\n",
    "# # Example\n",
    "# print(X[0])\n",
    "# print(sequences[0])"
   ]
  },
  {
   "cell_type": "code",
   "execution_count": 19,
   "metadata": {},
   "outputs": [
    {
     "name": "stdout",
     "output_type": "stream",
     "text": [
      "[ 1471     4  2210  1049  4685  8262     8     2  6615    40  1165    17\n",
      "   151     3  1412     2  4090    32  1413    70  3300    21    48   117\n",
      "  3301    12    18   191   959     2   349  6241     2  2609   881     6\n",
      "     5   216     9     8   159  1391    21     1  2528     1   137    11\n",
      "    12    13  2390     2  3129     1   911    12   510     2   109  2852\n",
      "     7   357  2853    34    12  1015   109    20  4887    12  4366     2\n",
      "  9962     1   114    12  1165     7     5   216    16   786    99  4888\n",
      " 20599  2669     3     5  1266     6  3300   264    34    12    35   613\n",
      "    17  2177  1471    12    22    67   640     1   444     3    40  1266\n",
      "     6  3300   264    17     5  1197    10     1   792     3     9  1266]\n"
     ]
    }
   ],
   "source": [
    "X_encoded = pad_sequences(sequences, maxlen=120, padding='post')\n",
    "\n",
    "print(X_encoded[0])"
   ]
  },
  {
   "cell_type": "code",
   "execution_count": 18,
   "metadata": {},
   "outputs": [],
   "source": [
    "# Split into training set and test set. Use a test size = 3000 and a random state = 0\n",
    "X_train, X_test, y_train, y_test = train_test_split(X_encoded, y, test_size=0.10, random_state=0,stratify = y)"
   ]
  },
  {
   "cell_type": "code",
   "execution_count": 35,
   "metadata": {},
   "outputs": [
    {
     "name": "stdout",
     "output_type": "stream",
     "text": [
      "WARNING:tensorflow:Layer lstm_3 will not use cuDNN kernels since it doesn't meet the criteria. It will use a generic GPU kernel as fallback when running on GPU.\n"
     ]
    }
   ],
   "source": [
    "# Design a LSTM neural network and use an embedding layer.\n",
    "vocabulary_size = X_train.max()\n",
    "\n",
    "model = Sequential()\n",
    "model.add(Embedding(vocabulary_size+1, 150, input_length=120))\n",
    "model.add(SpatialDropout1D(0.3))\n",
    "# model.add(LSTM(500,return_sequences=True, dropout=0.2, recurrent_dropout=0.15))\n",
    "model.add(LSTM(100, dropout=0.15, recurrent_dropout=0.1))\n",
    "model.add(Dense(750, activation='relu'))\n",
    "# model.add(Dense(50, activation='relu'))\n",
    "model.add(Dense(5, activation='sigmoid'))\n",
    "model.compile(loss='categorical_crossentropy', optimizer='adam', metrics=['accuracy'])\n",
    "\n"
   ]
  },
  {
   "cell_type": "code",
   "execution_count": 36,
   "metadata": {},
   "outputs": [],
   "source": [
    "from tensorflow.keras.callbacks import TensorBoard, EarlyStopping, ModelCheckpoint\n",
    "import time\n",
    "from datetime import datetime, date\n",
    "es = EarlyStopping(monitor='val_loss', mode='min', verbose=1, min_delta=0.001, patience=5, restore_best_weights=True)\n",
    "\n",
    "END = f'{datetime.timestamp(datetime.now())}_{date.today().strftime(\"%b-%d-%Y\")}'\n",
    "\n",
    "NAME = 'logs/bbc/bbc_classification_log_{}'.format(int(time.time()))\n",
    "tensorboard = TensorBoard(log_dir=f'{NAME}_{END}')\n",
    "\n",
    "checkpoint_filepath = f'models/bbc/bbc_classification_{END}.h5'\n",
    "checkpointer = ModelCheckpoint(filepath=checkpoint_filepath,save_weights_only=True,monitor='val_accuracy',mode='max',save_best_only=True)\n",
    "\n",
    "callback_list = [tensorboard, checkpointer, es]"
   ]
  },
  {
   "cell_type": "code",
   "execution_count": 37,
   "metadata": {},
   "outputs": [
    {
     "name": "stdout",
     "output_type": "stream",
     "text": [
      "WARNING:tensorflow:Model failed to serialize as JSON. Ignoring... Layer ModuleWrapper has arguments in `__init__` and therefore must override `get_config`.\n",
      "Epoch 1/100\n",
      "13/13 [==============================] - 24s 2s/step - loss: 1.6061 - accuracy: 0.2386 - val_loss: 1.5928 - val_accuracy: 0.3616\n",
      "Epoch 2/100\n",
      "13/13 [==============================] - 18s 1s/step - loss: 1.4890 - accuracy: 0.4072 - val_loss: 1.2754 - val_accuracy: 0.4464\n",
      "Epoch 3/100\n",
      "13/13 [==============================] - 18s 1s/step - loss: 1.0889 - accuracy: 0.4753 - val_loss: 0.9855 - val_accuracy: 0.5287\n",
      "Epoch 4/100\n",
      "13/13 [==============================] - 19s 1s/step - loss: 0.6488 - accuracy: 0.7402 - val_loss: 0.7394 - val_accuracy: 0.7606\n",
      "Epoch 5/100\n",
      "13/13 [==============================] - 21s 2s/step - loss: 0.3135 - accuracy: 0.9082 - val_loss: 0.6416 - val_accuracy: 0.7456\n",
      "Epoch 6/100\n",
      "13/13 [==============================] - 17s 1s/step - loss: 0.1293 - accuracy: 0.9588 - val_loss: 0.6840 - val_accuracy: 0.7905\n",
      "Epoch 7/100\n",
      "13/13 [==============================] - 21s 2s/step - loss: 0.0537 - accuracy: 0.9819 - val_loss: 0.7110 - val_accuracy: 0.7905\n",
      "Epoch 8/100\n",
      "13/13 [==============================] - 17s 1s/step - loss: 0.0609 - accuracy: 0.9794 - val_loss: 0.5332 - val_accuracy: 0.8329\n",
      "Epoch 9/100\n",
      "13/13 [==============================] - 16s 1s/step - loss: 0.0294 - accuracy: 0.9919 - val_loss: 0.6225 - val_accuracy: 0.8030\n",
      "Epoch 10/100\n",
      "13/13 [==============================] - 18s 1s/step - loss: 0.0490 - accuracy: 0.9844 - val_loss: 0.7617 - val_accuracy: 0.8155\n",
      "Epoch 11/100\n",
      "13/13 [==============================] - 16s 1s/step - loss: 0.0220 - accuracy: 0.9950 - val_loss: 0.5683 - val_accuracy: 0.8180\n",
      "Epoch 12/100\n",
      "13/13 [==============================] - 17s 1s/step - loss: 0.0108 - accuracy: 0.9975 - val_loss: 0.6388 - val_accuracy: 0.8404\n",
      "Epoch 13/100\n",
      "13/13 [==============================] - 16s 1s/step - loss: 0.0036 - accuracy: 0.9994 - val_loss: 0.8015 - val_accuracy: 0.8279\n",
      "Restoring model weights from the end of the best epoch: 8.\n",
      "Epoch 13: early stopping\n"
     ]
    }
   ],
   "source": [
    "history = model.fit(X_train, y_train, epochs=100,verbose=1,batch_size=128, validation_split=0.2, callbacks=callback_list)"
   ]
  },
  {
   "cell_type": "code",
   "execution_count": 34,
   "metadata": {},
   "outputs": [
    {
     "data": {
      "image/png": "[encoded data removed]",
      "text/plain": [
       "<Figure size 432x288 with 1 Axes>"
      ]
     },
     "metadata": {
      "needs_background": "light"
     },
     "output_type": "display_data"
    },
    {
     "data": {
      "image/png": "[encoded data removed]",
      "text/plain": [
       "<Figure size 432x288 with 1 Axes>"
      ]
     },
     "metadata": {
      "needs_background": "light"
     },
     "output_type": "display_data"
    }
   ],
   "source": [
    "# Plot history\n",
    "\n",
    "# Accuray \n",
    "plt.plot(history.history['accuracy'],'r')\n",
    "plt.plot(history.history['val_accuracy'],'b')\n",
    "plt.title('model accuracy')\n",
    "plt.ylabel('accuracy')\n",
    "plt.xlabel('epoch')\n",
    "plt.legend(['train', 'test'], loc='upper left')\n",
    "plt.show()\n",
    "# Loss \n",
    "plt.plot(history.history['loss'],'r')\n",
    "plt.plot(history.history['val_loss'],'b')\n",
    "\n",
    "plt.title('model loss')\n",
    "plt.ylabel('loss')\n",
    "plt.xlabel('epoch')\n",
    "plt.legend(['train', 'test'], loc='upper left')\n",
    "plt.show()"
   ]
  },
  {
   "cell_type": "code",
   "execution_count": null,
   "metadata": {},
   "outputs": [],
   "source": []
  }
 ],
 "metadata": {
  "interpreter": {
   "hash": "cc932b67d2988ca90fc668a584cefdcdfce78a2269dd29e4bc9704940b126ff4"
  },
  "kernelspec": {
   "display_name": "Python 3.10.3 64-bit",
   "language": "python",
   "name": "python3"
  },
  "language_info": {
   "codemirror_mode": {
    "name": "ipython",
    "version": 3
   },
   "file_extension": ".py",
   "mimetype": "text/x-python",
   "name": "python",
   "nbconvert_exporter": "python",
   "pygments_lexer": "ipython3",
   "version": "3.10.3"
  },
  "orig_nbformat": 4
 },
 "nbformat": 4,
 "nbformat_minor": 2
}
