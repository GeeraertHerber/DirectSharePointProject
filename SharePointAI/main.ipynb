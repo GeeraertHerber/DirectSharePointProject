{
 "cells": [
  {
   "cell_type": "code",
   "execution_count": 1,
   "metadata": {},
   "outputs": [
    {
     "name": "stdout",
     "output_type": "stream",
     "text": [
      "[PhysicalDevice(name='/physical_device:GPU:0', device_type='GPU')]\n"
     ]
    }
   ],
   "source": [
    "import os\n",
    "os.environ[\"KERAS_BACKEND\"] = \"tensorflow\"\n",
    "\n",
    "import matplotlib.pyplot as plt\n",
    "import pandas as pd\n",
    "import numpy as np\n",
    "import seaborn as sns\n",
    "import sys\n",
    "from sklearn import preprocessing\n",
    "from sklearn.preprocessing import MinMaxScaler, StandardScaler, RobustScaler\n",
    "from sklearn.metrics import confusion_matrix,accuracy_score, classification_report\n",
    "from sklearn.model_selection import train_test_split\n",
    "from sklearn.metrics.pairwise import euclidean_distances, cosine_similarity\n",
    "from sklearn.utils import shuffle\n",
    "from sklearn.utils import class_weight\n",
    "from sklearn.metrics import r2_score\n",
    "from sklearn.metrics import mean_absolute_error\n",
    "import tensorflow as tf\n",
    "import tensorflow.python.keras\n",
    "from tensorflow.python.keras.models import Sequential\n",
    "from tensorflow.keras.layers import Dense, Dropout, Flatten, Activation, BatchNormalization,SpatialDropout1D,Bidirectional, Embedding, LSTM\n",
    "from tensorflow.python.keras import backend as K\n",
    "from tensorflow.keras.utils import to_categorical\n",
    "from tensorflow.python.keras.callbacks import EarlyStopping\n",
    "from tensorflow.keras.preprocessing.sequence import pad_sequences\n",
    "from tensorflow.keras.preprocessing.text import Tokenizer, text_to_word_sequence\n",
    "import re\n",
    "\n",
    "np.set_printoptions(threshold=sys.maxsize)\n",
    "\n",
    "pd.set_option('display.max_rows',1000)\n",
    "pd.set_option('display.max_columns',1000)\n",
    "\n",
    "# GPU support\n",
    "physical_devices = tf.config.experimental.list_physical_devices('GPU')\n",
    "print(physical_devices)\n",
    "tf.config.experimental.set_memory_growth(physical_devices[0], True)"
   ]
  },
  {
   "cell_type": "code",
   "execution_count": 16,
   "metadata": {},
   "outputs": [
    {
     "name": "stdout",
     "output_type": "stream",
     "text": [
      "['5', '85\\n']\n"
     ]
    }
   ],
   "source": [
    "file = \"file.txt\"\n",
    "\n",
    "splitted_line = []\n",
    "\n",
    "with open(file) as f:\n",
    "    for line in f.readlines():\n",
    "        # print(line)\n",
    "        splitted_line.append([line[0], line[2:]])\n",
    "\n",
    "\n",
    "print(splitted_line.pop(0))\n",
    "\n"
   ]
  },
  {
   "cell_type": "code",
   "execution_count": 17,
   "metadata": {},
   "outputs": [],
   "source": [
    "dataset = pd.DataFrame(list(splitted_line), columns=[\"labels\", \"text\"])"
   ]
  },
  {
   "cell_type": "code",
   "execution_count": 18,
   "metadata": {},
   "outputs": [
    {
     "data": {
      "text/html": [
       "<div>\n",
       "<style scoped>\n",
       "    .dataframe tbody tr th:only-of-type {\n",
       "        vertical-align: middle;\n",
       "    }\n",
       "\n",
       "    .dataframe tbody tr th {\n",
       "        vertical-align: top;\n",
       "    }\n",
       "\n",
       "    .dataframe thead th {\n",
       "        text-align: right;\n",
       "    }\n",
       "</style>\n",
       "<table border=\"1\" class=\"dataframe\">\n",
       "  <thead>\n",
       "    <tr style=\"text-align: right;\">\n",
       "      <th></th>\n",
       "      <th>labels</th>\n",
       "      <th>text</th>\n",
       "    </tr>\n",
       "  </thead>\n",
       "  <tbody>\n",
       "    <tr>\n",
       "      <th>0</th>\n",
       "      <td>1</td>\n",
       "      <td>champion products ch approves stock split cham...</td>\n",
       "    </tr>\n",
       "    <tr>\n",
       "      <th>1</th>\n",
       "      <td>2</td>\n",
       "      <td>computer terminal systems cpml completes sale ...</td>\n",
       "    </tr>\n",
       "    <tr>\n",
       "      <th>2</th>\n",
       "      <td>1</td>\n",
       "      <td>cobanco inc cbco year net shr cts vs dlrs net ...</td>\n",
       "    </tr>\n",
       "    <tr>\n",
       "      <th>3</th>\n",
       "      <td>1</td>\n",
       "      <td>am international inc am nd qtr jan oper shr lo...</td>\n",
       "    </tr>\n",
       "    <tr>\n",
       "      <th>4</th>\n",
       "      <td>1</td>\n",
       "      <td>brown forman inc bfd th qtr net shr one dlr vs...</td>\n",
       "    </tr>\n",
       "  </tbody>\n",
       "</table>\n",
       "</div>"
      ],
      "text/plain": [
       "  labels                                               text\n",
       "0      1  champion products ch approves stock split cham...\n",
       "1      2  computer terminal systems cpml completes sale ...\n",
       "2      1  cobanco inc cbco year net shr cts vs dlrs net ...\n",
       "3      1  am international inc am nd qtr jan oper shr lo...\n",
       "4      1  brown forman inc bfd th qtr net shr one dlr vs..."
      ]
     },
     "execution_count": 18,
     "metadata": {},
     "output_type": "execute_result"
    }
   ],
   "source": [
    "dataset.head()"
   ]
  },
  {
   "cell_type": "code",
   "execution_count": 27,
   "metadata": {},
   "outputs": [],
   "source": [
    "X = dataset[\"text\"].values\n",
    "y = dataset[\"labels\"].values\n",
    "\n",
    "y = to_categorical(y)"
   ]
  },
  {
   "cell_type": "code",
   "execution_count": 28,
   "metadata": {},
   "outputs": [
    {
     "name": "stdout",
     "output_type": "stream",
     "text": [
      "champion products ch approves stock split champion products inc said its board of directors approved a two for one stock split of its common shares for shareholders of record as of april the company also said its board voted to recommend to shareholders at the annual meeting april an increase in the authorized capital stock from five mln to mln shares reuter \n",
      "\n",
      "[1986, 189, 9296, 2397, 51, 163, 1986, 189, 28, 5, 17, 99, 2, 452, 362, 6, 59, 12, 52, 51, 163, 2, 17, 95, 45, 12, 115, 2, 80, 43, 2, 68, 1, 25, 60, 5, 17, 99, 1663, 3, 1778, 3, 115, 32, 1, 256, 155, 68, 42, 158, 4, 1, 1013, 173, 51, 22, 107, 8, 3, 8, 45, 15]\n"
     ]
    }
   ],
   "source": [
    "tokenizer = Tokenizer(num_words= None)\n",
    "tokenizer.fit_on_texts(X)\n",
    "sequences = tokenizer.texts_to_sequences(X)\n",
    "\n",
    "# Example\n",
    "print(X[0])\n",
    "print(sequences[0])"
   ]
  },
  {
   "cell_type": "code",
   "execution_count": 29,
   "metadata": {},
   "outputs": [
    {
     "name": "stdout",
     "output_type": "stream",
     "text": [
      "[1986  189 9296 2397   51  163 1986  189   28    5   17   99    2  452\n",
      "  362    6   59   12   52   51  163    2   17   95   45   12  115    2\n",
      "   80   43    2   68    1   25   60    5   17   99 1663    3 1778    3\n",
      "  115   32    1  256  155   68   42  158    4    1 1013  173   51   22\n",
      "  107    8    3    8   45   15    0    0    0    0    0    0    0    0\n",
      "    0    0    0    0    0    0    0    0    0    0    0    0    0    0\n",
      "    0    0    0    0    0    0    0    0    0    0    0    0    0    0\n",
      "    0    0]\n"
     ]
    }
   ],
   "source": [
    "X_encoded = pad_sequences(sequences, maxlen=80, padding='post')\n",
    "\n",
    "print(X_encoded[0])"
   ]
  },
  {
   "cell_type": "code",
   "execution_count": 30,
   "metadata": {},
   "outputs": [],
   "source": [
    "# Split into training set and test set. Use a test size = 3000 and a random state = 0\n",
    "X_train, X_test, y_train, y_test = train_test_split(X_encoded, y, test_size=3000, random_state=0,stratify = y)"
   ]
  },
  {
   "cell_type": "code",
   "execution_count": 48,
   "metadata": {},
   "outputs": [
    {
     "name": "stdout",
     "output_type": "stream",
     "text": [
      "WARNING:tensorflow:Layer lstm_9 will not use cuDNN kernels since it doesn't meet the criteria. It will use a generic GPU kernel as fallback when running on GPU.\n"
     ]
    }
   ],
   "source": [
    "# Design a LSTM neural network and use an embedding layer.\n",
    "vocabulary_size = X_train.max()\n",
    "\n",
    "model = Sequential()\n",
    "model.add(Embedding(vocabulary_size+1, 150, input_length=100))\n",
    "model.add(SpatialDropout1D(0.3))\n",
    "#model.add(LSTM(200,return_sequences=True))\n",
    "model.add(LSTM(100, dropout=0.1, recurrent_dropout=0.1))\n",
    "model.add(Dense(500, activation='relu'))\n",
    "model.add(Dense(9, activation='sigmoid'))\n",
    "model.compile(loss='categorical_crossentropy', optimizer='adam', metrics=['accuracy'])\n",
    "\n"
   ]
  },
  {
   "cell_type": "code",
   "execution_count": 49,
   "metadata": {},
   "outputs": [],
   "source": [
    "from tensorflow.keras.callbacks import TensorBoard, EarlyStopping, ModelCheckpoint\n",
    "import time\n",
    "from datetime import datetime, date\n",
    "es = EarlyStopping(monitor='val_loss', mode='min', verbose=1, min_delta=0.001, patience=4, restore_best_weights=True)\n",
    "\n",
    "END = f'{datetime.timestamp(datetime.now())}_{date.today().strftime(\"%b-%d-%Y\")}'\n",
    "\n",
    "NAME = 'text_classification_model{}'.format(int(time.time()))\n",
    "tensorboard = TensorBoard(log_dir=f'{NAME}_{END}')\n",
    "\n",
    "checkpoint_filepath = f'text_classification_{END}.h5'\n",
    "checkpointer = ModelCheckpoint(filepath=checkpoint_filepath,save_weights_only=True,monitor='val_accuracy',mode='max',save_best_only=True)\n",
    "\n",
    "callback_list = [tensorboard, checkpointer, es]"
   ]
  },
  {
   "cell_type": "code",
   "execution_count": 51,
   "metadata": {},
   "outputs": [
    {
     "name": "stdout",
     "output_type": "stream",
     "text": [
      "WARNING:tensorflow:Model failed to serialize as JSON. Ignoring... Layer ModuleWrapper has arguments in `__init__` and therefore must override `get_config`.\n",
      "Epoch 1/100\n",
      "63/63 [==============================] - 81s 1s/step - loss: 0.7468 - accuracy: 0.7077 - val_loss: 0.8438 - val_accuracy: 0.6720\n",
      "Epoch 2/100\n",
      "63/63 [==============================] - 85s 1s/step - loss: 0.8127 - accuracy: 0.7072 - val_loss: 0.9205 - val_accuracy: 0.6801\n",
      "Epoch 3/100\n",
      "63/63 [==============================] - 87s 1s/step - loss: 0.8776 - accuracy: 0.6615 - val_loss: 0.9203 - val_accuracy: 0.6640\n",
      "Epoch 4/100\n",
      "63/63 [==============================] - 89s 1s/step - loss: 0.8722 - accuracy: 0.6459 - val_loss: 0.9699 - val_accuracy: 0.6358\n",
      "Epoch 5/100\n",
      "63/63 [==============================] - 90s 1s/step - loss: 0.8270 - accuracy: 0.6740 - val_loss: 0.8753 - val_accuracy: 0.7163\n",
      "Restoring model weights from the end of the best epoch: 1.\n",
      "Epoch 5: early stopping\n"
     ]
    }
   ],
   "source": [
    "history = model.fit(X_train, y_train, epochs=100,verbose=1,batch_size=32, validation_split=0.2, callbacks=callback_list)"
   ]
  },
  {
   "cell_type": "code",
   "execution_count": null,
   "metadata": {},
   "outputs": [
    {
     "data": {
      "image/png": "[encoded data removed]",
      "text/plain": [
       "<Figure size 432x288 with 1 Axes>"
      ]
     },
     "metadata": {
      "needs_background": "light"
     },
     "output_type": "display_data"
    },
    {
     "data": {
      "image/png": "[encoded data removed]",
      "text/plain": [
       "<Figure size 432x288 with 1 Axes>"
      ]
     },
     "metadata": {
      "needs_background": "light"
     },
     "output_type": "display_data"
    }
   ],
   "source": [
    "# Plot history\n",
    "\n",
    "# Accuray \n",
    "plt.plot(history.history['accuracy'],'r')\n",
    "plt.plot(history.history['val_accuracy'],'b')\n",
    "plt.title('model accuracy')\n",
    "plt.ylabel('accuracy')\n",
    "plt.xlabel('epoch')\n",
    "plt.legend(['train', 'test'], loc='upper left')\n",
    "plt.show()\n",
    "# Loss \n",
    "plt.plot(history.history['loss'],'r')\n",
    "plt.plot(history.history['val_loss'],'b')\n",
    "\n",
    "plt.title('model loss')\n",
    "plt.ylabel('loss')\n",
    "plt.xlabel('epoch')\n",
    "plt.legend(['train', 'test'], loc='upper left')\n",
    "plt.show()"
   ]
  },
  {
   "cell_type": "code",
   "execution_count": 59,
   "metadata": {},
   "outputs": [
    {
     "data": {
      "text/plain": [
       "1"
      ]
     },
     "execution_count": 59,
     "metadata": {},
     "output_type": "execute_result"
    }
   ],
   "source": [
    "rounded_labels=np.argmax(y_test, axis=1)\n"
   ]
  },
  {
   "cell_type": "code",
   "execution_count": 60,
   "metadata": {},
   "outputs": [
    {
     "name": "stdout",
     "output_type": "stream",
     "text": [
      "              precision    recall  f1-score   support\n",
      "\n",
      "           1       0.78      0.84      0.81      1553\n",
      "           2       0.60      0.45      0.51       873\n",
      "           3       0.47      0.39      0.43       137\n",
      "           4       0.00      0.00      0.00        59\n",
      "           5       0.00      0.00      0.00        23\n",
      "           6       0.62      0.30      0.40       138\n",
      "           7       0.03      0.02      0.02       104\n",
      "           8       0.19      0.71      0.30       113\n",
      "\n",
      "    accuracy                           0.63      3000\n",
      "   macro avg       0.34      0.34      0.31      3000\n",
      "weighted avg       0.64      0.63      0.62      3000\n",
      "\n",
      "[[1309  227    0    0    0    0    7   10]\n",
      " [ 363  391    5    0    0    0   35   79]\n",
      " [   0    4   54    0    0   21    6   52]\n",
      " [   5    5   12    0    0    1    5   31]\n",
      " [   1    3    0    0    0    0    4   15]\n",
      " [   1    5   24    0    0   41    4   63]\n",
      " [   5    8    5    0    0    1    2   83]\n",
      " [   4    4   16    0    0    2    7   80]]\n",
      "62.56666666666667\n"
     ]
    },
    {
     "name": "stderr",
     "output_type": "stream",
     "text": [
      "d:\\GitHub\\DirectSharePointProject\\SharePointAI\\envSharePoint\\lib\\site-packages\\sklearn\\metrics\\_classification.py:1318: UndefinedMetricWarning: Precision and F-score are ill-defined and being set to 0.0 in labels with no predicted samples. Use `zero_division` parameter to control this behavior.\n",
      "  _warn_prf(average, modifier, msg_start, len(result))\n",
      "d:\\GitHub\\DirectSharePointProject\\SharePointAI\\envSharePoint\\lib\\site-packages\\sklearn\\metrics\\_classification.py:1318: UndefinedMetricWarning: Precision and F-score are ill-defined and being set to 0.0 in labels with no predicted samples. Use `zero_division` parameter to control this behavior.\n",
      "  _warn_prf(average, modifier, msg_start, len(result))\n",
      "d:\\GitHub\\DirectSharePointProject\\SharePointAI\\envSharePoint\\lib\\site-packages\\sklearn\\metrics\\_classification.py:1318: UndefinedMetricWarning: Precision and F-score are ill-defined and being set to 0.0 in labels with no predicted samples. Use `zero_division` parameter to control this behavior.\n",
      "  _warn_prf(average, modifier, msg_start, len(result))\n"
     ]
    }
   ],
   "source": [
    "# Validate model on training set\n",
    "y_pred = np.argmax(model.predict(X_test),axis=-1)\n",
    "\n",
    "print(classification_report(rounded_labels, y_pred))\n",
    "\n",
    "cf = confusion_matrix(rounded_labels, y_pred)\n",
    "\n",
    "print(cf)\n",
    "print(accuracy_score(rounded_labels, y_pred) * 100) "
   ]
  },
  {
   "cell_type": "code",
   "execution_count": null,
   "metadata": {},
   "outputs": [],
   "source": []
  }
 ],
 "metadata": {
  "interpreter": {
   "hash": "cc932b67d2988ca90fc668a584cefdcdfce78a2269dd29e4bc9704940b126ff4"
  },
  "kernelspec": {
   "display_name": "Python 3.10.3 64-bit",
   "language": "python",
   "name": "python3"
  },
  "language_info": {
   "codemirror_mode": {
    "name": "ipython",
    "version": 3
   },
   "file_extension": ".py",
   "mimetype": "text/x-python",
   "name": "python",
   "nbconvert_exporter": "python",
   "pygments_lexer": "ipython3",
   "version": "3.10.3"
  },
  "orig_nbformat": 4
 },
 "nbformat": 4,
 "nbformat_minor": 2
}
