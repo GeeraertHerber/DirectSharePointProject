{
 "cells": [
  {
   "cell_type": "code",
   "execution_count": 37,
   "metadata": {},
   "outputs": [
    {
     "name": "stdout",
     "output_type": "stream",
     "text": [
      "[PhysicalDevice(name='/physical_device:GPU:0', device_type='GPU')]\n"
     ]
    }
   ],
   "source": [
    "import os\n",
    "os.environ[\"KERAS_BACKEND\"] = \"tensorflow\"\n",
    "\n",
    "import matplotlib.pyplot as plt\n",
    "import pandas as pd\n",
    "import numpy as np\n",
    "import seaborn as sns\n",
    "import sys\n",
    "from sklearn import preprocessing\n",
    "from sklearn.preprocessing import MinMaxScaler, StandardScaler, RobustScaler\n",
    "from sklearn.metrics import confusion_matrix,accuracy_score, classification_report\n",
    "from sklearn.model_selection import train_test_split\n",
    "from sklearn.metrics.pairwise import euclidean_distances, cosine_similarity\n",
    "from sklearn.utils import shuffle\n",
    "from sklearn.utils import class_weight\n",
    "from sklearn.metrics import r2_score\n",
    "from sklearn.metrics import mean_absolute_error\n",
    "import tensorflow as tf\n",
    "import tensorflow.python.keras\n",
    "from tensorflow.python.keras.models import Sequential\n",
    "from tensorflow.keras.layers import Dense, Dropout, Flatten, Activation, BatchNormalization,SpatialDropout1D,Bidirectional, Embedding, LSTM\n",
    "from tensorflow.python.keras import backend as K\n",
    "from tensorflow.keras.utils import to_categorical\n",
    "from tensorflow.python.keras.callbacks import EarlyStopping\n",
    "from tensorflow.keras.preprocessing.sequence import pad_sequences\n",
    "from tensorflow.keras.preprocessing.text import Tokenizer, text_to_word_sequence\n",
    "import re\n",
    "\n",
    "np.set_printoptions(threshold=sys.maxsize)\n",
    "\n",
    "pd.set_option('display.max_rows',1000)\n",
    "pd.set_option('display.max_columns',1000)\n",
    "\n",
    "# GPU support\n",
    "physical_devices = tf.config.experimental.list_physical_devices('GPU')\n",
    "print(physical_devices)\n",
    "tf.config.experimental.set_memory_growth(physical_devices[0], True)"
   ]
  },
  {
   "cell_type": "code",
   "execution_count": 28,
   "metadata": {},
   "outputs": [
    {
     "name": "stdout",
     "output_type": "stream",
     "text": [
      "['1', 'champion products ch approves stock split champion products inc said its board of directors approved a two for one stock split of its common shares for shareholders of record as of april the company also said its board voted to recommend to shareholders at the annual meeting april an increase in the authorized capital stock from five mln to mln shares reuter \\n']\n"
     ]
    }
   ],
   "source": [
    "file = \"dataset_file/file.txt\"\n",
    "\n",
    "splitted_line = []\n",
    "\n",
    "with open(file) as f:\n",
    "    for line in f.readlines():\n",
    "        # print(line)\n",
    "        if  int(line[0]) in [1,2,3,4]:\n",
    "            splitted_line.append([line[0], line[2:]])\n",
    "\n",
    "\n",
    "print(splitted_line.pop(0))\n",
    "\n"
   ]
  },
  {
   "cell_type": "code",
   "execution_count": 29,
   "metadata": {},
   "outputs": [],
   "source": [
    "dataset = pd.DataFrame(list(splitted_line), columns=[\"labels\", \"text\"])"
   ]
  },
  {
   "cell_type": "code",
   "execution_count": 30,
   "metadata": {},
   "outputs": [
    {
     "data": {
      "text/html": [
       "<div>\n",
       "<style scoped>\n",
       "    .dataframe tbody tr th:only-of-type {\n",
       "        vertical-align: middle;\n",
       "    }\n",
       "\n",
       "    .dataframe tbody tr th {\n",
       "        vertical-align: top;\n",
       "    }\n",
       "\n",
       "    .dataframe thead th {\n",
       "        text-align: right;\n",
       "    }\n",
       "</style>\n",
       "<table border=\"1\" class=\"dataframe\">\n",
       "  <thead>\n",
       "    <tr style=\"text-align: right;\">\n",
       "      <th></th>\n",
       "      <th>labels</th>\n",
       "      <th>text</th>\n",
       "    </tr>\n",
       "  </thead>\n",
       "  <tbody>\n",
       "    <tr>\n",
       "      <th>0</th>\n",
       "      <td>2</td>\n",
       "      <td>computer terminal systems cpml completes sale ...</td>\n",
       "    </tr>\n",
       "    <tr>\n",
       "      <th>1</th>\n",
       "      <td>1</td>\n",
       "      <td>cobanco inc cbco year net shr cts vs dlrs net ...</td>\n",
       "    </tr>\n",
       "    <tr>\n",
       "      <th>2</th>\n",
       "      <td>1</td>\n",
       "      <td>am international inc am nd qtr jan oper shr lo...</td>\n",
       "    </tr>\n",
       "    <tr>\n",
       "      <th>3</th>\n",
       "      <td>1</td>\n",
       "      <td>brown forman inc bfd th qtr net shr one dlr vs...</td>\n",
       "    </tr>\n",
       "    <tr>\n",
       "      <th>4</th>\n",
       "      <td>1</td>\n",
       "      <td>dean foods df sees strong th qtr earnings dean...</td>\n",
       "    </tr>\n",
       "  </tbody>\n",
       "</table>\n",
       "</div>"
      ],
      "text/plain": [
       "  labels                                               text\n",
       "0      2  computer terminal systems cpml completes sale ...\n",
       "1      1  cobanco inc cbco year net shr cts vs dlrs net ...\n",
       "2      1  am international inc am nd qtr jan oper shr lo...\n",
       "3      1  brown forman inc bfd th qtr net shr one dlr vs...\n",
       "4      1  dean foods df sees strong th qtr earnings dean..."
      ]
     },
     "execution_count": 30,
     "metadata": {},
     "output_type": "execute_result"
    }
   ],
   "source": [
    "dataset.head()"
   ]
  },
  {
   "cell_type": "code",
   "execution_count": 31,
   "metadata": {},
   "outputs": [],
   "source": [
    "X = dataset[\"text\"].values\n",
    "y = dataset[\"labels\"].values\n",
    "\n",
    "y = to_categorical(y)"
   ]
  },
  {
   "cell_type": "code",
   "execution_count": 32,
   "metadata": {},
   "outputs": [
    {
     "name": "stdout",
     "output_type": "stream",
     "text": [
      "computer terminal systems cpml completes sale computer terminal systems inc said it has completed the sale of shares of its common stock and warrants to acquire an additional one mln shares to sedio n v of lugano switzerland for dlrs the company said the warrants are exercisable for five years at a purchase price of dlrs per share computer terminal said sedio also has the right to buy additional shares and increase its total holdings up to pct of the computer terminal s outstanding common stock under certain circumstances involving change of control at the company the company said if the conditions occur the warrants would be exercisable at a price equal to pct of its common stock s market price at the time not to exceed dlrs per share computer terminal also said it sold the technolgy rights to its dot matrix impact technology including any future improvements to woodco inc of houston tex for dlrs but it said it would continue to be the exclusive worldwide licensee of the technology for woodco the company said the moves were part of its reorganization plan and would help pay current operation costs and ensure product delivery computer terminal makes computer generated labels forms tags and ticket printers and terminals reuter \n",
      "\n",
      "[356, 2036, 201, 10760, 566, 82, 356, 2036, 201, 23, 9, 12, 35, 263, 1, 82, 2, 36, 2, 18, 81, 46, 8, 820, 3, 155, 44, 400, 53, 4, 36, 3, 8060, 351, 1714, 2, 10761, 2397, 13, 10, 1, 21, 9, 1, 820, 70, 2206, 13, 112, 220, 38, 7, 186, 149, 2, 10, 66, 31, 356, 2036, 9, 8060, 62, 35, 1, 504, 3, 118, 400, 36, 8, 168, 18, 132, 283, 87, 3, 26, 2, 1, 356, 2036, 14, 152, 81, 46, 126, 361, 1715, 1881, 457, 2, 256, 38, 1, 21, 1, 21, 9, 130, 1, 549, 2638, 1, 820, 47, 33, 2206, 38, 7, 149, 1106, 3, 26, 2, 18, 81, 46, 14, 122, 149, 38, 1, 207, 48, 3, 1308, 10, 66, 31, 356, 2036, 62, 9, 12, 247, 1, 10762, 385, 3, 18, 1214, 6587, 739, 433, 305, 190, 357, 2302, 3, 8061, 23, 2, 1278, 8062, 13, 10, 63, 12, 9, 12, 47, 348, 3, 33, 1, 2973, 1012, 3406, 2, 1, 433, 13, 8061, 1, 21, 9, 1, 1215, 76, 253, 2, 18, 1360, 224, 8, 47, 667, 96, 159, 646, 271, 8, 2037, 632, 1427, 356, 2036, 625, 356, 2974, 5636, 2639, 10763, 8, 3986, 4936, 8, 3664, 15]\n"
     ]
    }
   ],
   "source": [
    "tokenizer = Tokenizer(num_words= None)\n",
    "tokenizer.fit_on_texts(X)\n",
    "sequences = tokenizer.texts_to_sequences(X)\n",
    "\n",
    "# # Example\n",
    "# print(X[0])\n",
    "# print(sequences[0])"
   ]
  },
  {
   "cell_type": "code",
   "execution_count": 33,
   "metadata": {},
   "outputs": [
    {
     "name": "stdout",
     "output_type": "stream",
     "text": [
      "[  356  2036    62     9    12   247     1 10762   385     3    18  1214\n",
      "  6587   739   433   305   190   357  2302     3  8061    23     2  1278\n",
      "  8062    13    10    63    12     9    12    47   348     3    33     1\n",
      "  2973  1012  3406     2     1   433    13  8061     1    21     9     1\n",
      "  1215    76   253     2    18  1360   224     8    47   667    96   159\n",
      "   646   271     8  2037   632  1427   356  2036   625   356  2974  5636\n",
      "  2639 10763     8  3986  4936     8  3664    15]\n"
     ]
    }
   ],
   "source": [
    "X_encoded = pad_sequences(sequences, maxlen=80, padding='post')\n",
    "\n",
    "print(X_encoded[0])"
   ]
  },
  {
   "cell_type": "code",
   "execution_count": 42,
   "metadata": {},
   "outputs": [],
   "source": [
    "# Split into training set and test set. Use a test size = 3000 and a random state = 0\n",
    "X_train, X_test, y_train, y_test = train_test_split(X_encoded, y, test_size=0.10, random_state=0,stratify = y)"
   ]
  },
  {
   "cell_type": "code",
   "execution_count": 45,
   "metadata": {},
   "outputs": [],
   "source": [
    "X_train_one, X_train_two, y_train_one, y_test_two = train_test_split(X_train, y_train, test_size=0.50, random_state=44,stratify = y_train)"
   ]
  },
  {
   "cell_type": "code",
   "execution_count": 47,
   "metadata": {},
   "outputs": [
    {
     "name": "stdout",
     "output_type": "stream",
     "text": [
      "WARNING:tensorflow:Layer lstm_3 will not use cuDNN kernels since it doesn't meet the criteria. It will use a generic GPU kernel as fallback when running on GPU.\n"
     ]
    }
   ],
   "source": [
    "# Design a LSTM neural network and use an embedding layer.\n",
    "vocabulary_size = X_train_one.max()\n",
    "\n",
    "model = Sequential()\n",
    "model.add(Embedding(vocabulary_size+1, 150, input_length=80))\n",
    "model.add(SpatialDropout1D(0.3))\n",
    "# model.add(LSTM(500,return_sequences=True, dropout=0.2, recurrent_dropout=0.15))\n",
    "model.add(LSTM(100, dropout=0.1, recurrent_dropout=0.1))\n",
    "model.add(Dense(500, activation='relu'))\n",
    "model.add(Dense(5, activation='sigmoid'))\n",
    "model.compile(loss='categorical_crossentropy', optimizer='adam', metrics=['accuracy'])\n",
    "\n"
   ]
  },
  {
   "cell_type": "code",
   "execution_count": 22,
   "metadata": {},
   "outputs": [],
   "source": [
    "from tensorflow.keras.callbacks import TensorBoard, EarlyStopping, ModelCheckpoint\n",
    "import time\n",
    "from datetime import datetime, date\n",
    "es = EarlyStopping(monitor='val_loss', mode='min', verbose=1, min_delta=0.001, patience=5, restore_best_weights=True)\n",
    "\n",
    "END = f'{datetime.timestamp(datetime.now())}_{date.today().strftime(\"%b-%d-%Y\")}'\n",
    "\n",
    "NAME = 'logs/text_classification_model{}'.format(int(time.time()))\n",
    "tensorboard = TensorBoard(log_dir=f'{NAME}_{END}')\n",
    "\n",
    "checkpoint_filepath = f'models/text_classification_{END}.h5'\n",
    "checkpointer = ModelCheckpoint(filepath=checkpoint_filepath,save_weights_only=True,monitor='val_accuracy',mode='max',save_best_only=True)\n",
    "\n",
    "callback_list = [tensorboard, checkpointer, es]"
   ]
  },
  {
   "cell_type": "code",
   "execution_count": 50,
   "metadata": {},
   "outputs": [
    {
     "name": "stdout",
     "output_type": "stream",
     "text": [
      "WARNING:tensorflow:Model failed to serialize as JSON. Ignoring... Layer ModuleWrapper has arguments in `__init__` and therefore must override `get_config`.\n",
      "Epoch 1/100\n",
      "14/14 [==============================] - 17s 1s/step - loss: 1.0595 - accuracy: 0.5994 - val_loss: 0.8919 - val_accuracy: 0.6713\n",
      "Epoch 2/100\n",
      "14/14 [==============================] - 18s 1s/step - loss: 0.8278 - accuracy: 0.6174 - val_loss: 0.8184 - val_accuracy: 0.6736\n",
      "Epoch 3/100\n",
      "14/14 [==============================] - 17s 1s/step - loss: 0.7458 - accuracy: 0.7003 - val_loss: 0.7568 - val_accuracy: 0.6644\n",
      "Epoch 4/100\n",
      "14/14 [==============================] - 17s 1s/step - loss: 0.6283 - accuracy: 0.7774 - val_loss: 0.6674 - val_accuracy: 0.7407\n",
      "Epoch 5/100\n",
      "14/14 [==============================] - 17s 1s/step - loss: 0.3793 - accuracy: 0.8754 - val_loss: 0.3328 - val_accuracy: 0.8958\n",
      "Epoch 6/100\n",
      "14/14 [==============================] - 16s 1s/step - loss: 0.2242 - accuracy: 0.9328 - val_loss: 0.4232 - val_accuracy: 0.8750\n",
      "Epoch 7/100\n",
      "14/14 [==============================] - 16s 1s/step - loss: 0.1482 - accuracy: 0.9536 - val_loss: 0.4006 - val_accuracy: 0.9097\n",
      "Epoch 8/100\n",
      "14/14 [==============================] - 16s 1s/step - loss: 0.1633 - accuracy: 0.9490 - val_loss: 0.2523 - val_accuracy: 0.9282\n",
      "Epoch 9/100\n",
      "14/14 [==============================] - 16s 1s/step - loss: 0.1297 - accuracy: 0.9600 - val_loss: 0.3416 - val_accuracy: 0.9051\n",
      "Epoch 10/100\n",
      "14/14 [==============================] - 17s 1s/step - loss: 0.1032 - accuracy: 0.9728 - val_loss: 0.3069 - val_accuracy: 0.9259\n",
      "Epoch 11/100\n",
      "14/14 [==============================] - 16s 1s/step - loss: 0.0844 - accuracy: 0.9745 - val_loss: 0.3644 - val_accuracy: 0.9120\n",
      "Epoch 12/100\n",
      "14/14 [==============================] - 26s 2s/step - loss: 0.0588 - accuracy: 0.9814 - val_loss: 0.3331 - val_accuracy: 0.9190\n",
      "Epoch 13/100\n",
      "14/14 [==============================] - 18s 1s/step - loss: 0.0434 - accuracy: 0.9878 - val_loss: 0.3672 - val_accuracy: 0.9190\n",
      "Restoring model weights from the end of the best epoch: 8.\n",
      "Epoch 13: early stopping\n"
     ]
    }
   ],
   "source": [
    "history = model.fit(X_train_one, y_train_one, epochs=100,verbose=1,batch_size=128, validation_split=0.2, callbacks=callback_list)"
   ]
  },
  {
   "cell_type": "code",
   "execution_count": 54,
   "metadata": {},
   "outputs": [
    {
     "name": "stdout",
     "output_type": "stream",
     "text": [
      "WARNING:tensorflow:Model failed to serialize as JSON. Ignoring... Layer ModuleWrapper has arguments in `__init__` and therefore must override `get_config`.\n",
      "Epoch 1/100\n",
      "14/14 [==============================] - 17s 1s/step - loss: 0.3071 - accuracy: 0.9107 - val_loss: 0.3540 - val_accuracy: 0.9051\n",
      "Epoch 2/100\n",
      "14/14 [==============================] - 17s 1s/step - loss: 0.1644 - accuracy: 0.9478 - val_loss: 0.2471 - val_accuracy: 0.9120\n",
      "Epoch 3/100\n",
      "14/14 [==============================] - 17s 1s/step - loss: 0.1028 - accuracy: 0.9693 - val_loss: 0.4014 - val_accuracy: 0.9028\n",
      "Epoch 4/100\n",
      "14/14 [==============================] - 18s 1s/step - loss: 0.0962 - accuracy: 0.9693 - val_loss: 0.3445 - val_accuracy: 0.9005\n",
      "Epoch 5/100\n",
      "14/14 [==============================] - 17s 1s/step - loss: 0.0790 - accuracy: 0.9757 - val_loss: 0.3086 - val_accuracy: 0.9074\n",
      "Epoch 6/100\n",
      "14/14 [==============================] - 16s 1s/step - loss: 0.0559 - accuracy: 0.9826 - val_loss: 0.2797 - val_accuracy: 0.9167\n",
      "Epoch 7/100\n",
      "14/14 [==============================] - 15s 1s/step - loss: 0.0452 - accuracy: 0.9809 - val_loss: 0.2703 - val_accuracy: 0.9074\n",
      "Restoring model weights from the end of the best epoch: 2.\n",
      "Epoch 7: early stopping\n"
     ]
    }
   ],
   "source": [
    "history = model.fit(X_train_two, y_test_two, epochs=100,verbose=1,batch_size=128, validation_split=0.2, callbacks=callback_list)"
   ]
  },
  {
   "cell_type": "code",
   "execution_count": 55,
   "metadata": {},
   "outputs": [
    {
     "data": {
      "image/png": "[encoded data removed]",
      "text/plain": [
       "<Figure size 432x288 with 1 Axes>"
      ]
     },
     "metadata": {
      "needs_background": "light"
     },
     "output_type": "display_data"
    },
    {
     "data": {
      "image/png": "[encoded data removed]",
      "text/plain": [
       "<Figure size 432x288 with 1 Axes>"
      ]
     },
     "metadata": {
      "needs_background": "light"
     },
     "output_type": "display_data"
    }
   ],
   "source": [
    "# Plot history\n",
    "\n",
    "# Accuray \n",
    "plt.plot(history.history['accuracy'],'r')\n",
    "plt.plot(history.history['val_accuracy'],'b')\n",
    "plt.title('model accuracy')\n",
    "plt.ylabel('accuracy')\n",
    "plt.xlabel('epoch')\n",
    "plt.legend(['train', 'test'], loc='upper left')\n",
    "plt.show()\n",
    "# Loss \n",
    "plt.plot(history.history['loss'],'r')\n",
    "plt.plot(history.history['val_loss'],'b')\n",
    "\n",
    "plt.title('model loss')\n",
    "plt.ylabel('loss')\n",
    "plt.xlabel('epoch')\n",
    "plt.legend(['train', 'test'], loc='upper left')\n",
    "plt.show()"
   ]
  },
  {
   "cell_type": "code",
   "execution_count": 56,
   "metadata": {},
   "outputs": [],
   "source": []
  },
  {
   "cell_type": "code",
   "execution_count": 57,
   "metadata": {},
   "outputs": [
    {
     "name": "stdout",
     "output_type": "stream",
     "text": [
      "              precision    recall  f1-score   support\n",
      "\n",
      "           1       0.99      0.94      0.97       284\n",
      "           2       0.88      0.98      0.93       160\n",
      "           3       0.71      0.80      0.75        25\n",
      "           4       0.50      0.09      0.15        11\n",
      "\n",
      "    accuracy                           0.93       480\n",
      "   macro avg       0.77      0.70      0.70       480\n",
      "weighted avg       0.93      0.93      0.92       480\n",
      "\n",
      "[[268  16   0   0]\n",
      " [  3 157   0   0]\n",
      " [  0   4  20   1]\n",
      " [  0   2   8   1]]\n",
      "92.91666666666667\n"
     ]
    }
   ],
   "source": [
    "# Validate model on training set\n",
    "rounded_labels=np.argmax(y_test, axis=1)\n",
    "\n",
    "y_pred = np.argmax(model.predict(X_test),axis=-1)\n",
    "\n",
    "print(classification_report(rounded_labels, y_pred))\n",
    "\n",
    "cf = confusion_matrix(rounded_labels, y_pred)\n",
    "\n",
    "print(cf)\n",
    "print(accuracy_score(rounded_labels, y_pred) * 100) "
   ]
  },
  {
   "cell_type": "code",
   "execution_count": 122,
   "metadata": {},
   "outputs": [],
   "source": [
    "file = \"dataset_file/fabricated_file.txt\"\n",
    "\n",
    "splitted_line = []\n",
    "from random import choice, randint\n",
    "\n",
    "with open(file) as f:\n",
    "    for line in f.readlines():\n",
    "        # print(line)\n",
    "        splitted_line.append([line[0], line[2:]])\n",
    "\n"
   ]
  },
  {
   "cell_type": "code",
   "execution_count": 123,
   "metadata": {},
   "outputs": [
    {
     "name": "stdout",
     "output_type": "stream",
     "text": [
      "2\n"
     ]
    }
   ],
   "source": [
    "\n",
    "print(len(splitted_line[0]))\n",
    "\n",
    "brand_file = \"dataset_file/brand_file.txt\"\n",
    "with open(brand_file) as f: \n",
    "    brand_list = f.read().splitlines()\n",
    "    # for brand in f.readline():\n",
    "    #     brand_list.append(str(brand))"
   ]
  },
  {
   "cell_type": "code",
   "execution_count": 124,
   "metadata": {},
   "outputs": [
    {
     "name": "stdout",
     "output_type": "stream",
     "text": [
      "Done\n",
      "['1', 'citicorp cci sees doubling in retail bank net citicorp expects net income in its individual banking sector to top one billion dlrs by compared with mln dlrs in said richard braddock head of citicorp s individual banking division we can double our earnings over the next five to seven years he told a banking analysts meeting adding that this forecast may be on the conservative side he said that bank card operations and the new york branch system would continue to turn in hefty profits but also picked out other developing areas such as u s mortgage and international consumer as major potential earners braddock and his sector heads made the following more specific predictions cost of funds and net credit loss levels in the u s bankcard unit will taper off in coming years from s relatively inflated levels customer net revenue in the mortgage banking area will rise to mln dlrs in from mln in the international consumer business will show pct compound annual growth in earnings between and private banking earnings will hit mln dlrs in and top mln dlrs in reuter \\n', 'citicorp cci sees doubling in retail Douglas net citicorp expects net income in its individual banking sector to top one billion dlrs by compared with mln dlrs in said richard braddock head of citicorp s individual banking division we can double our earnings over the next five to seven years he told a banking analysts meeting adding that this forecast may be on the conservative side he said that bank card operations and the new york branch system would continue to turn in hefty profits but also picked out other developing areas such as u s mortgage and international consumer as major potential earners braddock and his sector heads made the following more specific predictions cost of funds and net credit loss levels in the u s bankcard unit will taper off in coming years from s relatively inflated levels customer net revenue in the mortgage banking area will rise to mln dlrs in from mln in the international consumer business will show pct compound annual growth in earnings between and private banking earnings will hit mln dlrs in and top mln dlrs in reuter \\n', 17, 'Douglas']\n"
     ]
    }
   ],
   "source": [
    "\n",
    "data_list = []\n",
    "for x in range(len(splitted_line)): \n",
    "    sentence = splitted_line[x]\n",
    "    brand_index = brand_list.index(choice(brand_list))\n",
    "    splitted_sentence = sentence[1].split(\" \")\n",
    "    random_index = randint(0, len(splitted_sentence)-1)\n",
    "    splitted_sentence[random_index] = brand_list[brand_index]\n",
    "    # print(f\"Difference {len(splitted_sentence) - lenght_before }\")\n",
    "    combined_sentence = \" \".join(splitted_sentence)\n",
    "    sentence.append(combined_sentence)\n",
    "    sentence.append(brand_index)\n",
    "    sentence.append(brand_list[brand_index])\n",
    "    # print(len(sentence))\n",
    "    data_list.append(sentence)\n",
    "\n",
    "print(\"Done\")\n",
    "print(data_list[randint(0, len(splitted_line)-1)])"
   ]
  },
  {
   "cell_type": "code",
   "execution_count": 125,
   "metadata": {},
   "outputs": [
    {
     "name": "stdout",
     "output_type": "stream",
     "text": [
      "3\n",
      "yeutter says u s japan trade difficulties remain u s trade representative clayton yeutter said he was unsure whether some of the trade issues straining u s japanese relations would be resolved before the two countries open trade talks in late april we are having high level discussions on them the issues within the united states the relationship on some of those is very strained between us japan at the moment and we need to relieve those strains at the earliest possible date he said i am not sure we can wait until late april he added yeutter is in new zealand for a two day informal meeting of trade ministers who are reviewing the uruguay round of the general agreement on trade and tariffs gatt he said he will meet the japanese delegation over the next few days but declined to discuss methods of relieving the strain between the two countries yeutter said earlier the three most contentious trade issues were semiconductors japanese government unwillingness to allow public entities to buy u s super computers and the barring of u s firms from the eight billion u s dlr kansai airport project near osaka the japanese delegation to the gatt talks said in a statement yesterday they are making major efforts to dismantle trade barriers in their country i am convinced that they are attempting to move their policies in the right direction the question is how far and how fast yeutter said reuter \n",
      "\n",
      "yeutter says u s japan trade difficulties remain u s trade representative clayton yeutter said he was unsure whether some of the trade issues straining u s japanese relations would be resolved before the two countries open trade talks in late april we are having high level discussions on them the Wrigley within the united states the relationship on some of those is very strained between us japan at the moment and we need to relieve those strains at the earliest possible date he said i am not sure we can wait until late april he added yeutter is in new zealand for a two day informal meeting of trade ministers who are reviewing the uruguay round of the general agreement on trade and tariffs gatt he said he will meet the japanese delegation over the next few days but declined to discuss methods of relieving the strain between the two countries yeutter said earlier the three most contentious trade issues were semiconductors japanese government unwillingness to allow public entities to buy u s super computers and the barring of u s firms from the eight billion u s dlr kansai airport project near osaka the japanese delegation to the gatt talks said in a statement yesterday they are making major efforts to dismantle trade barriers in their country i am convinced that they are attempting to move their policies in the right direction the question is how far and how fast yeutter said reuter \n",
      "\n",
      "8\n",
      "Wrigley\n"
     ]
    }
   ],
   "source": [
    "for item in data_list[randint(0, len(splitted_line)-1)]:\n",
    "    print(item)"
   ]
  },
  {
   "cell_type": "code",
   "execution_count": 126,
   "metadata": {},
   "outputs": [],
   "source": [
    "dataset = pd.DataFrame(list(data_list), columns=[\"labels\", \"native_text\", \"branded_text\",\"brand_index\", \"brand\"])"
   ]
  },
  {
   "cell_type": "code",
   "execution_count": 147,
   "metadata": {},
   "outputs": [],
   "source": [
    "\n",
    "\n",
    "y = dataset[\"brand_index\"].values\n",
    "X = dataset[\"branded_text\"].values\n",
    "\n",
    "y = to_categorical(y)"
   ]
  },
  {
   "cell_type": "code",
   "execution_count": 148,
   "metadata": {},
   "outputs": [
    {
     "data": {
      "text/html": [
       "<div>\n",
       "<style scoped>\n",
       "    .dataframe tbody tr th:only-of-type {\n",
       "        vertical-align: middle;\n",
       "    }\n",
       "\n",
       "    .dataframe tbody tr th {\n",
       "        vertical-align: top;\n",
       "    }\n",
       "\n",
       "    .dataframe thead th {\n",
       "        text-align: right;\n",
       "    }\n",
       "</style>\n",
       "<table border=\"1\" class=\"dataframe\">\n",
       "  <thead>\n",
       "    <tr style=\"text-align: right;\">\n",
       "      <th></th>\n",
       "      <th>labels</th>\n",
       "      <th>native_text</th>\n",
       "      <th>branded_text</th>\n",
       "      <th>brand_index</th>\n",
       "      <th>brand</th>\n",
       "    </tr>\n",
       "  </thead>\n",
       "  <tbody>\n",
       "    <tr>\n",
       "      <th>0</th>\n",
       "      <td>1</td>\n",
       "      <td>champion products ch approves stock split cham...</td>\n",
       "      <td>champion products ch approves stock split cham...</td>\n",
       "      <td>5</td>\n",
       "      <td>Waterman</td>\n",
       "    </tr>\n",
       "    <tr>\n",
       "      <th>1</th>\n",
       "      <td>2</td>\n",
       "      <td>computer terminal systems cpml completes sale ...</td>\n",
       "      <td>computer terminal systems cpml completes sale ...</td>\n",
       "      <td>8</td>\n",
       "      <td>Wrigley</td>\n",
       "    </tr>\n",
       "    <tr>\n",
       "      <th>2</th>\n",
       "      <td>1</td>\n",
       "      <td>cobanco inc cbco year net shr cts vs dlrs net ...</td>\n",
       "      <td>cobanco inc cbco year net shr cts vs dlrs net ...</td>\n",
       "      <td>9</td>\n",
       "      <td>Sealpackerchief</td>\n",
       "    </tr>\n",
       "    <tr>\n",
       "      <th>3</th>\n",
       "      <td>1</td>\n",
       "      <td>am international inc am nd qtr jan oper shr lo...</td>\n",
       "      <td>am international inc am nd qtr jan oper shr lo...</td>\n",
       "      <td>3</td>\n",
       "      <td>Campbell</td>\n",
       "    </tr>\n",
       "    <tr>\n",
       "      <th>4</th>\n",
       "      <td>1</td>\n",
       "      <td>brown forman inc bfd th qtr net shr one dlr vs...</td>\n",
       "      <td>brown forman inc bfd th qtr net shr one dlr vs...</td>\n",
       "      <td>18</td>\n",
       "      <td>Huyler's</td>\n",
       "    </tr>\n",
       "  </tbody>\n",
       "</table>\n",
       "</div>"
      ],
      "text/plain": [
       "  labels                                        native_text  \\\n",
       "0      1  champion products ch approves stock split cham...   \n",
       "1      2  computer terminal systems cpml completes sale ...   \n",
       "2      1  cobanco inc cbco year net shr cts vs dlrs net ...   \n",
       "3      1  am international inc am nd qtr jan oper shr lo...   \n",
       "4      1  brown forman inc bfd th qtr net shr one dlr vs...   \n",
       "\n",
       "                                        branded_text  brand_index  \\\n",
       "0  champion products ch approves stock split cham...            5   \n",
       "1  computer terminal systems cpml completes sale ...            8   \n",
       "2  cobanco inc cbco year net shr cts vs dlrs net ...            9   \n",
       "3  am international inc am nd qtr jan oper shr lo...            3   \n",
       "4  brown forman inc bfd th qtr net shr one dlr vs...           18   \n",
       "\n",
       "             brand  \n",
       "0         Waterman  \n",
       "1          Wrigley  \n",
       "2  Sealpackerchief  \n",
       "3         Campbell  \n",
       "4         Huyler's  "
      ]
     },
     "execution_count": 148,
     "metadata": {},
     "output_type": "execute_result"
    }
   ],
   "source": [
    "dataset.head()"
   ]
  },
  {
   "cell_type": "code",
   "execution_count": 149,
   "metadata": {},
   "outputs": [],
   "source": [
    "tokenizer = Tokenizer(num_words= None)\n",
    "tokenizer.fit_on_texts(X)\n",
    "sequences = tokenizer.texts_to_sequences(X)"
   ]
  },
  {
   "cell_type": "code",
   "execution_count": 150,
   "metadata": {},
   "outputs": [
    {
     "name": "stdout",
     "output_type": "stream",
     "text": [
      "[   21   954     2    17    51    35    42  2922  3497     2     1  1114\n",
      "     2  4075    17   515     2  3593     1    25   394     5  3313  2706\n",
      "     2    42   110    74   581    30   151     3     1  8315   179   145\n",
      "   233    46     3     1   712    11    99   208  1305    89   103   106\n",
      "    21   107    13     6  4849     2   145     4  3497     2   426  8315\n",
      "  1871    64 10870     1    25    35    44   914   704     3   479   314\n",
      "    56   286     1    21   954     2    51    15]\n"
     ]
    }
   ],
   "source": [
    "X_encoded = pad_sequences(sequences, maxlen=80, padding='post')\n",
    "\n",
    "print(X_encoded[randint(0,len(X_encoded))])"
   ]
  },
  {
   "cell_type": "code",
   "execution_count": 151,
   "metadata": {},
   "outputs": [],
   "source": [
    "X_train, X_test, y_train, y_test = train_test_split(X_encoded, y, test_size=0.10, random_state=0,stratify = y)"
   ]
  },
  {
   "cell_type": "code",
   "execution_count": 152,
   "metadata": {},
   "outputs": [
    {
     "name": "stdout",
     "output_type": "stream",
     "text": [
      "WARNING:tensorflow:Layer lstm_5 will not use cuDNN kernels since it doesn't meet the criteria. It will use a generic GPU kernel as fallback when running on GPU.\n"
     ]
    }
   ],
   "source": [
    "# Design a LSTM neural network and use an embedding layer.\n",
    "vocabulary_size = X_train.max()\n",
    "\n",
    "model = Sequential()\n",
    "model.add(Embedding(vocabulary_size+1, 150, input_length=80))\n",
    "model.add(SpatialDropout1D(0.3))\n",
    "# model.add(LSTM(500,return_sequences=True, dropout=0.2, recurrent_dropout=0.15))\n",
    "model.add(LSTM(100, dropout=0.1, recurrent_dropout=0.1))\n",
    "model.add(Dense(500, activation='relu'))\n",
    "model.add(Dense(25, activation='sigmoid'))\n",
    "model.compile(loss='categorical_crossentropy', optimizer='adam', metrics=['accuracy'])\n",
    "\n"
   ]
  },
  {
   "cell_type": "code",
   "execution_count": 155,
   "metadata": {},
   "outputs": [],
   "source": [
    "from tensorflow.keras.callbacks import TensorBoard, EarlyStopping, ModelCheckpoint\n",
    "import time\n",
    "from datetime import datetime, date\n",
    "es = EarlyStopping(monitor='val_accuracy', mode='min', verbose=1, min_delta=0.001, patience=5, restore_best_weights=True)\n",
    "\n",
    "END = f'{datetime.timestamp(datetime.now())}_{date.today().strftime(\"%b-%d-%Y\")}'\n",
    "\n",
    "NAME = 'logs/text_classification_diydataset_model{}'.format(int(time.time()))\n",
    "tensorboard = TensorBoard(log_dir=f'{NAME}_{END}')\n",
    "\n",
    "checkpoint_filepath = f'models/text_classification_diydataset_{END}.h5'\n",
    "checkpointer = ModelCheckpoint(filepath=checkpoint_filepath,save_weights_only=True,monitor='val_accuracy',mode='max',save_best_only=True)\n",
    "\n",
    "callback_list = [tensorboard, checkpointer, es]"
   ]
  },
  {
   "cell_type": "code",
   "execution_count": 156,
   "metadata": {},
   "outputs": [
    {
     "name": "stdout",
     "output_type": "stream",
     "text": [
      "WARNING:tensorflow:Model failed to serialize as JSON. Ignoring... Layer ModuleWrapper has arguments in `__init__` and therefore must override `get_config`.\n",
      "Epoch 1/100\n",
      "31/31 [==============================] - 45s 1s/step - loss: 1.7790 - accuracy: 0.3632 - val_loss: 2.8737 - val_accuracy: 0.1933\n",
      "Epoch 2/100\n",
      "31/31 [==============================] - 41s 1s/step - loss: 1.5054 - accuracy: 0.4501 - val_loss: 2.8743 - val_accuracy: 0.2581\n",
      "Epoch 3/100\n",
      "31/31 [==============================] - 40s 1s/step - loss: 1.1931 - accuracy: 0.5628 - val_loss: 2.8945 - val_accuracy: 0.2814\n",
      "Epoch 4/100\n",
      "31/31 [==============================] - 40s 1s/step - loss: 1.0196 - accuracy: 0.6342 - val_loss: 3.0429 - val_accuracy: 0.3613\n",
      "Epoch 5/100\n",
      "31/31 [==============================] - 41s 1s/step - loss: 0.8520 - accuracy: 0.6945 - val_loss: 3.0148 - val_accuracy: 0.4211\n",
      "Epoch 6/100\n",
      "31/31 [==============================] - 42s 1s/step - loss: 0.7021 - accuracy: 0.7424 - val_loss: 2.8080 - val_accuracy: 0.4636\n",
      "Restoring model weights from the end of the best epoch: 1.\n",
      "Epoch 6: early stopping\n"
     ]
    }
   ],
   "source": [
    "history = model.fit(X_train, y_train, epochs=100,verbose=1,batch_size=128, validation_split=0.2, callbacks=callback_list)"
   ]
  },
  {
   "cell_type": "code",
   "execution_count": null,
   "metadata": {},
   "outputs": [],
   "source": []
  }
 ],
 "metadata": {
  "interpreter": {
   "hash": "cc932b67d2988ca90fc668a584cefdcdfce78a2269dd29e4bc9704940b126ff4"
  },
  "kernelspec": {
   "display_name": "Python 3.10.3 64-bit",
   "language": "python",
   "name": "python3"
  },
  "language_info": {
   "codemirror_mode": {
    "name": "ipython",
    "version": 3
   },
   "file_extension": ".py",
   "mimetype": "text/x-python",
   "name": "python",
   "nbconvert_exporter": "python",
   "pygments_lexer": "ipython3",
   "version": "3.10.3"
  },
  "orig_nbformat": 4
 },
 "nbformat": 4,
 "nbformat_minor": 2
}
